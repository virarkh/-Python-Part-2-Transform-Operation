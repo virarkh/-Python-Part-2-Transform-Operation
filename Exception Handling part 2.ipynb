{
 "cells": [
  {
   "cell_type": "markdown",
   "id": "674e694b",
   "metadata": {},
   "source": [
    "# Handling Exception"
   ]
  },
  {
   "cell_type": "markdown",
   "id": "817b32ec",
   "metadata": {},
   "source": [
    "In Python, exceptions can be handled using a try statement."
   ]
  },
  {
   "cell_type": "markdown",
   "id": "bad845f6",
   "metadata": {},
   "source": [
    "- for example we want to handle zero division error case with try statement\n",
    "- The Python \"ZeroDivisionError: float division by zero\" occurs when we try to divide a floating-point number by 0. "
   ]
  },
  {
   "cell_type": "code",
   "execution_count": 1,
   "id": "3453e6b8",
   "metadata": {},
   "outputs": [],
   "source": [
    "a = 0"
   ]
  },
  {
   "cell_type": "code",
   "execution_count": 3,
   "id": "18233df6",
   "metadata": {},
   "outputs": [
    {
     "ename": "ZeroDivisionError",
     "evalue": "division by zero",
     "output_type": "error",
     "traceback": [
      "\u001b[1;31m---------------------------------------------------------------------------\u001b[0m",
      "\u001b[1;31mZeroDivisionError\u001b[0m                         Traceback (most recent call last)",
      "\u001b[1;32m<ipython-input-3-4477dbdda2bb>\u001b[0m in \u001b[0;36m<module>\u001b[1;34m\u001b[0m\n\u001b[1;32m----> 1\u001b[1;33m \u001b[0mdivide\u001b[0m \u001b[1;33m=\u001b[0m \u001b[1;36m1\u001b[0m\u001b[1;33m/\u001b[0m\u001b[0ma\u001b[0m\u001b[1;33m\u001b[0m\u001b[1;33m\u001b[0m\u001b[0m\n\u001b[0m",
      "\u001b[1;31mZeroDivisionError\u001b[0m: division by zero"
     ]
    }
   ],
   "source": [
    "divide = 1/a"
   ]
  },
  {
   "cell_type": "code",
   "execution_count": 4,
   "id": "eb202dd1",
   "metadata": {},
   "outputs": [
    {
     "name": "stdout",
     "output_type": "stream",
     "text": [
      "this is a zero division error, try with another number\n"
     ]
    }
   ],
   "source": [
    "a = 0\n",
    "\n",
    "try:\n",
    "    divide = 1/a\n",
    "    print(divide)\n",
    "except ZeroDivisionError:\n",
    "    print(\"this is a zero division error, try with another number\")"
   ]
  },
  {
   "cell_type": "markdown",
   "id": "bc9250b9",
   "metadata": {},
   "source": [
    "TypeError is an exception in Python programming language that occurs when the data type of objects in an operation is inappropriate. "
   ]
  },
  {
   "cell_type": "code",
   "execution_count": 5,
   "id": "0acc6a34",
   "metadata": {},
   "outputs": [
    {
     "name": "stdout",
     "output_type": "stream",
     "text": [
      "This variable should be an integer\n"
     ]
    }
   ],
   "source": [
    "# example of error handling with type error\n",
    "a = 'a'\n",
    "\n",
    "try:\n",
    "    plus = a + 2\n",
    "    print(plus)\n",
    "except TypeError:\n",
    "    print(\"This variable should be an integer\")"
   ]
  },
  {
   "cell_type": "markdown",
   "id": "95bb84e4",
   "metadata": {},
   "source": [
    "The Python FileNotFoundError : No such file or directory error is often raised by the os library. This error tells you that you are trying to access a file or folder that does not exist. To fix this error, check that you are referring to the right file or folder in your program.\n",
    "\n",
    "But you can fix this using try and except statement"
   ]
  },
  {
   "cell_type": "code",
   "execution_count": 8,
   "id": "d1889e0b",
   "metadata": {},
   "outputs": [
    {
     "name": "stdout",
     "output_type": "stream",
     "text": [
      "file not found\n"
     ]
    }
   ],
   "source": [
    "try:\n",
    "    with open('file1.py') as file:\n",
    "        print(file.read())\n",
    "except (FileNotFoundError, ):\n",
    "    print('file not found')"
   ]
  },
  {
   "cell_type": "markdown",
   "id": "f6c3aaca",
   "metadata": {},
   "source": [
    "A try clause can have any number of except clauses to handle different exceptions, however, only one will be executed in case an exception occurs.\n",
    "\n",
    "We can use a tuple of values to specify multiple exceptions in an except clause. Here is an example pseudo code."
   ]
  },
  {
   "cell_type": "code",
   "execution_count": 14,
   "id": "9ea7e3ad",
   "metadata": {},
   "outputs": [
    {
     "name": "stdout",
     "output_type": "stream",
     "text": [
      "This variable should be an integer and no a zero\n"
     ]
    }
   ],
   "source": [
    "a = 1\n",
    "b = 0\n",
    "\n",
    "try:\n",
    "    division = a / b\n",
    "    print(division)\n",
    "except (TypeError,ZeroDivisionError):\n",
    "    print(\"This variable should be an integer and no a zero\")"
   ]
  },
  {
   "cell_type": "markdown",
   "id": "fb74a3f6",
   "metadata": {},
   "source": [
    "## Many Exception"
   ]
  },
  {
   "cell_type": "markdown",
   "id": "2d16d8e8",
   "metadata": {},
   "source": [
    "You can define as many exception blocks as you want, e.g. if you want to execute a special block of code for a special kind of error:"
   ]
  },
  {
   "cell_type": "code",
   "execution_count": 20,
   "id": "9f6c2e87",
   "metadata": {},
   "outputs": [
    {
     "name": "stdout",
     "output_type": "stream",
     "text": [
      "Variable x is not defined\n"
     ]
    }
   ],
   "source": [
    "try:\n",
    "    print(x)\n",
    "except NameError:\n",
    "    print(\"Variable x is not defined\")\n",
    "except:\n",
    "    print(\"Something else went wrong\")"
   ]
  },
  {
   "cell_type": "markdown",
   "id": "a835a9a6",
   "metadata": {},
   "source": [
    "## Else"
   ]
  },
  {
   "cell_type": "markdown",
   "id": "5ddcb1a1",
   "metadata": {},
   "source": [
    "In some situations, you might want to run a certain block of code if the code block inside try ran without any errors. For these cases, you can use the optional else keyword with the try statement."
   ]
  },
  {
   "cell_type": "code",
   "execution_count": 18,
   "id": "f1629259",
   "metadata": {},
   "outputs": [
    {
     "name": "stdout",
     "output_type": "stream",
     "text": [
      "Enter a number: 4\n",
      "0.25\n"
     ]
    }
   ],
   "source": [
    "try:\n",
    "    num = int(input(\"Enter a number: \"))\n",
    "    assert num % 2 == 0\n",
    "except:\n",
    "    print(\"Not an even number!\")\n",
    "else:\n",
    "    reciprocal = 1/num\n",
    "    print(reciprocal)"
   ]
  },
  {
   "cell_type": "markdown",
   "id": "cf1e8a97",
   "metadata": {},
   "source": [
    "## Finally"
   ]
  },
  {
   "cell_type": "markdown",
   "id": "94245172",
   "metadata": {},
   "source": [
    "The try statement in Python can have an optional finally clause. The finally block, if specified, will be executed regardless if the try block raises an error or not.\n",
    "\n",
    "Example:"
   ]
  },
  {
   "cell_type": "code",
   "execution_count": 21,
   "id": "a7929bb5",
   "metadata": {},
   "outputs": [
    {
     "name": "stdout",
     "output_type": "stream",
     "text": [
      "Something went wrong\n",
      "The 'try except' is finished\n"
     ]
    }
   ],
   "source": [
    "try:\n",
    "    print(x)\n",
    "except:\n",
    "    print(\"Something went wrong\")\n",
    "finally:\n",
    "    print(\"The 'try except' is finished\")"
   ]
  },
  {
   "cell_type": "code",
   "execution_count": null,
   "id": "2e199cb3",
   "metadata": {},
   "outputs": [],
   "source": []
  }
 ],
 "metadata": {
  "kernelspec": {
   "display_name": "Python 3",
   "language": "python",
   "name": "python3"
  },
  "language_info": {
   "codemirror_mode": {
    "name": "ipython",
    "version": 3
   },
   "file_extension": ".py",
   "mimetype": "text/x-python",
   "name": "python",
   "nbconvert_exporter": "python",
   "pygments_lexer": "ipython3",
   "version": "3.6.13"
  }
 },
 "nbformat": 4,
 "nbformat_minor": 5
}
