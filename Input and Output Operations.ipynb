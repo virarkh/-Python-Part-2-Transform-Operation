{
 "cells": [
  {
   "cell_type": "markdown",
   "id": "dccd7149",
   "metadata": {},
   "source": [
    "## Open File\n",
    "<hr>\n",
    "Python has a built-in open() function to open a file. This function returns a file object, also called a handle, as it is used to read or modify the file accordingly. <br>\n",
    "\n",
    "<b>Syntax</b> <br>\n",
    "1. open file in current directory <br>\n",
    "<i>variable = open(\"name_file\") </i>\n",
    "<br> <br>\n",
    "2. specifying full path <br>\n",
    "<i>variable = open(\"path/name_file\") </i>"
   ]
  },
  {
   "cell_type": "code",
   "execution_count": 1,
   "id": "eda5f96d",
   "metadata": {},
   "outputs": [
    {
     "name": "stdout",
     "output_type": "stream",
     "text": [
      "<_io.TextIOWrapper name='Kelompok_5.txt' mode='r' encoding='cp1252'>\n"
     ]
    }
   ],
   "source": [
    "file = open('Kelompok_5.txt')\n",
    "\n",
    "print(file)"
   ]
  },
  {
   "cell_type": "markdown",
   "id": "f8a3ddfd",
   "metadata": {},
   "source": [
    "<br>"
   ]
  },
  {
   "cell_type": "markdown",
   "id": "c23b05ca",
   "metadata": {},
   "source": [
    "## Read File\n",
    "<hr>\n",
    "To open the file, use the built-in open() function. The open() function returns a file object, which has a read() method for reading the content of the file.\n",
    "<br>\n",
    "\n",
    "<b>Syntax</b> <br>\n",
    "1. open file in current directory <br>\n",
    "<i>variable = open(\"name_file\", \"r\") </i><br>\n",
    "<i>print(variable.read())</i>\n",
    "<br> <br>\n",
    "2. specifying full path <br>\n",
    "<i>variable = open(\"path/name_file\", \"r\") </i><br>\n",
    "<i>print(variable.read())</i>"
   ]
  },
  {
   "cell_type": "code",
   "execution_count": 2,
   "id": "aad4fd38",
   "metadata": {},
   "outputs": [
    {
     "name": "stdout",
     "output_type": "stream",
     "text": [
      "Kelompok 5 Data Science B\n",
      "Abil, Teknik Fisika\n",
      "Alya, Statistika\n",
      "Asep, Teknik Informatika\n",
      "Caca, Biologi\n",
      "Jonathan, Sistem Informasi\n",
      "Vira, Sistem Informasi\n"
     ]
    }
   ],
   "source": [
    "file = open('Kelompok_5.txt', 'r')\n",
    "\n",
    "print(file.read())"
   ]
  },
  {
   "cell_type": "markdown",
   "id": "335861dd",
   "metadata": {},
   "source": [
    "### Read by Custom Line"
   ]
  },
  {
   "cell_type": "code",
   "execution_count": 3,
   "id": "2674f1a4",
   "metadata": {},
   "outputs": [
    {
     "name": "stdout",
     "output_type": "stream",
     "text": [
      "Kelompok 5 Data Science B\n",
      "\n"
     ]
    }
   ],
   "source": [
    "file = open('Kelompok_5.txt', 'r')\n",
    "\n",
    "print(file.readline())"
   ]
  },
  {
   "cell_type": "code",
   "execution_count": 4,
   "id": "f5163a4d",
   "metadata": {},
   "outputs": [
    {
     "name": "stdout",
     "output_type": "stream",
     "text": [
      "Abil, Teknik Fisika\n",
      "\n",
      "Alya, Statistika\n",
      "\n",
      "Asep, Teknik Informatika\n",
      "\n",
      "Caca, Biologi\n",
      "\n",
      "Jonathan, Sistem Informasi\n",
      "\n",
      "Vira, Sistem Informasi\n"
     ]
    }
   ],
   "source": [
    "readLine = file.readlines()\n",
    "\n",
    "print(readLine[0])\n",
    "\n",
    "print(readLine[1])\n",
    "\n",
    "print(readLine[2])\n",
    "\n",
    "print(readLine[3])\n",
    "\n",
    "print(readLine[4])\n",
    "\n",
    "print(readLine[5])"
   ]
  },
  {
   "cell_type": "markdown",
   "id": "36ac4bd6",
   "metadata": {},
   "source": [
    "<br>"
   ]
  },
  {
   "cell_type": "markdown",
   "id": "bbe68f93",
   "metadata": {},
   "source": [
    "## Write File\n",
    "<hr>\n",
    "To write to an existing file, you must add a parameter to the open() function: <br>\n",
    "\n",
    "\"a\" - Append - will append to the end of the file <br>\n",
    "\"w\" - Write - will overwrite any existing content <br>\n",
    "\n",
    "<b>Syntax</b> <br>\n",
    "1. open file in current directory <br>\n",
    "<i>variable = open(\"name_file\", \"a\") </i><br>\n",
    "<i>variable.write(value)</i>\n",
    "<br> <br>\n",
    "2. specifying full path <br>\n",
    "<i>variable = open(\"path/name_file\", \"w\") </i><br>\n",
    "<i>variable.write(value)</i>"
   ]
  },
  {
   "cell_type": "code",
   "execution_count": 5,
   "id": "a7e26229",
   "metadata": {},
   "outputs": [],
   "source": [
    "# Open the file \"Kelompok_5.txt\" and append content to the file:\n",
    "\n",
    "file = open('Kelompok_5.txt', 'a')\n",
    "\n",
    "file.write(\"\\nMyEduSolve\")\n",
    "file.close()"
   ]
  },
  {
   "cell_type": "code",
   "execution_count": 6,
   "id": "37860bf4",
   "metadata": {},
   "outputs": [
    {
     "name": "stdout",
     "output_type": "stream",
     "text": [
      "Kelompok 5 Data Science B\n",
      "Abil, Teknik Fisika\n",
      "Alya, Statistika\n",
      "Asep, Teknik Informatika\n",
      "Caca, Biologi\n",
      "Jonathan, Sistem Informasi\n",
      "Vira, Sistem Informasi\n",
      "MyEduSolve\n"
     ]
    }
   ],
   "source": [
    "file = open('Kelompok_5.txt', 'r')\n",
    "\n",
    "print(file.read())"
   ]
  },
  {
   "cell_type": "code",
   "execution_count": 7,
   "id": "993ad9d1",
   "metadata": {},
   "outputs": [],
   "source": [
    "# Open the file \"Kelompok_5.txt\" and overwrite the content:\n",
    "file = open('Kelompok_5.txt', 'w')\n",
    "\n",
    "file.write(\"Oops! I have deleted the content!\")\n",
    "file.close()"
   ]
  },
  {
   "cell_type": "code",
   "execution_count": 8,
   "id": "228f8c7e",
   "metadata": {},
   "outputs": [
    {
     "name": "stdout",
     "output_type": "stream",
     "text": [
      "Oops! I have deleted the content!\n"
     ]
    }
   ],
   "source": [
    "file = open('Kelompok_5.txt', 'r')\n",
    "\n",
    "print(file.read())"
   ]
  },
  {
   "cell_type": "code",
   "execution_count": 16,
   "id": "a5afb97a",
   "metadata": {},
   "outputs": [
    {
     "name": "stdout",
     "output_type": "stream",
     "text": [
      "Nama: Budi\n",
      "Umur: 17\n",
      "Alamat: Galaxy Bima Sakti\n"
     ]
    }
   ],
   "source": [
    "with open('input.txt', 'w') as writeFile:\n",
    "    nama = input(\"Nama: \")\n",
    "    umur = input(\"Umur: \")\n",
    "    alamat = input(\"Alamat: \")\n",
    "    teks = \"Nama: {}\\nUmur: {}\\nAlamat: {}\".format(nama, umur, alamat)\n",
    "    writeFile.write(teks)"
   ]
  },
  {
   "cell_type": "markdown",
   "id": "ab7de0a0",
   "metadata": {},
   "source": [
    "<br>"
   ]
  },
  {
   "cell_type": "markdown",
   "id": "5e273571",
   "metadata": {},
   "source": [
    "## Close File\n",
    "<hr>\n",
    "Closing a file will free up the resources that were tied with the file. It is done using the close() method available in Python. \n",
    "<br><br>\n",
    "<b>Syntax</b> <br>\n",
    "1. open file in current directory <br>\n",
    "<i>variable = open(\"name_file\") </i><br>\n",
    "<i>variable.close()</i>\n",
    "<br> <br>\n",
    "2. specifying full path <br>\n",
    "<i>variable = open(\"path/name_file\") </i><br>\n",
    "<i>variable.close()</i>"
   ]
  },
  {
   "cell_type": "code",
   "execution_count": 24,
   "id": "d00719cb",
   "metadata": {},
   "outputs": [
    {
     "name": "stdout",
     "output_type": "stream",
     "text": [
      "Nama: Budi\n",
      "Umur: 17\n",
      "Alamat: Galaxy Bima Sakti\n"
     ]
    }
   ],
   "source": [
    "file = open('input.txt', 'r')\n",
    "\n",
    "print(file.read())"
   ]
  },
  {
   "cell_type": "code",
   "execution_count": 25,
   "id": "b745ac36",
   "metadata": {},
   "outputs": [],
   "source": [
    "file.close()"
   ]
  },
  {
   "cell_type": "code",
   "execution_count": 26,
   "id": "5b4e42c4",
   "metadata": {},
   "outputs": [
    {
     "ename": "ValueError",
     "evalue": "I/O operation on closed file.",
     "output_type": "error",
     "traceback": [
      "\u001b[1;31m---------------------------------------------------------------------------\u001b[0m",
      "\u001b[1;31mValueError\u001b[0m                                Traceback (most recent call last)",
      "Input \u001b[1;32mIn [26]\u001b[0m, in \u001b[0;36m<cell line: 1>\u001b[1;34m()\u001b[0m\n\u001b[1;32m----> 1\u001b[0m \u001b[38;5;28mprint\u001b[39m(\u001b[43mfile\u001b[49m\u001b[38;5;241;43m.\u001b[39;49m\u001b[43mread\u001b[49m\u001b[43m(\u001b[49m\u001b[43m)\u001b[49m)\n",
      "\u001b[1;31mValueError\u001b[0m: I/O operation on closed file."
     ]
    }
   ],
   "source": [
    "print(file.read())"
   ]
  },
  {
   "cell_type": "code",
   "execution_count": 27,
   "id": "190a90a6",
   "metadata": {},
   "outputs": [],
   "source": [
    "#can't read the file, because the file has been closed"
   ]
  },
  {
   "cell_type": "markdown",
   "id": "8865f17e",
   "metadata": {},
   "source": [
    "<br>"
   ]
  },
  {
   "cell_type": "markdown",
   "id": "877f71e9",
   "metadata": {},
   "source": [
    "## Delete File\n",
    "<hr>\n",
    "To delete a file, must import the OS module, and run its os.remove() function <br>\n",
    "\n",
    "<b>Syntax</b><br>\n",
    "<i>import os</i>\n",
    "<br>\n",
    "<i>os.remove(\"file_name\")</i>"
   ]
  },
  {
   "cell_type": "code",
   "execution_count": 28,
   "id": "9799edd9",
   "metadata": {},
   "outputs": [
    {
     "name": "stdout",
     "output_type": "stream",
     "text": [
      "Delete 'input.txt' File Success!\n"
     ]
    }
   ],
   "source": [
    "import os\n",
    "\n",
    "if os.path.isfile('input.txt'):\n",
    "    os.remove('input.txt')\n",
    "    print('Delete \\'input.txt\\' File Success!')\n",
    "else:\n",
    "    print('\\'input.txt\\' File Not Found!')"
   ]
  },
  {
   "cell_type": "code",
   "execution_count": 29,
   "id": "3ae476e0",
   "metadata": {},
   "outputs": [],
   "source": [
    "# success delete file"
   ]
  },
  {
   "cell_type": "code",
   "execution_count": 30,
   "id": "c27bfd32",
   "metadata": {},
   "outputs": [
    {
     "name": "stdout",
     "output_type": "stream",
     "text": [
      "'input.txt' File Not Found!\n"
     ]
    }
   ],
   "source": [
    "if os.path.isfile('input.txt'):\n",
    "    os.remove('input.txt')\n",
    "    print('Delete \\'input.txt\\' File Success!')\n",
    "else:\n",
    "    print('\\'input.txt\\' File Not Found!')"
   ]
  },
  {
   "cell_type": "code",
   "execution_count": 31,
   "id": "ed22cc57",
   "metadata": {},
   "outputs": [],
   "source": [
    "# file not found because that file has been deleted"
   ]
  },
  {
   "cell_type": "markdown",
   "id": "a723bfcb",
   "metadata": {},
   "source": [
    "<br>"
   ]
  },
  {
   "cell_type": "markdown",
   "id": "6e156d2d",
   "metadata": {},
   "source": [
    "## Check Existence File\n",
    "<hr>"
   ]
  },
  {
   "cell_type": "code",
   "execution_count": 39,
   "id": "621a879f",
   "metadata": {},
   "outputs": [
    {
     "name": "stdout",
     "output_type": "stream",
     "text": [
      "Input value in this field New Content\n"
     ]
    }
   ],
   "source": [
    "if os.path.isfile('input.txt'):\n",
    "    writeFile = open('input.txt', 'a')\n",
    "else:\n",
    "    writeFile = open('input.txt', 'w')\n",
    "    \n",
    "toFile = input('Input value in this field ')\n",
    "writeFile.write(toFile)\n",
    "writeFile.close()"
   ]
  },
  {
   "cell_type": "code",
   "execution_count": 40,
   "id": "818d6a98",
   "metadata": {},
   "outputs": [
    {
     "name": "stdout",
     "output_type": "stream",
     "text": [
      "New Content\n"
     ]
    }
   ],
   "source": [
    "writeFile = open('input.txt', 'r')\n",
    "\n",
    "print(writeFile.read())"
   ]
  }
 ],
 "metadata": {
  "kernelspec": {
   "display_name": "Python 3 (ipykernel)",
   "language": "python",
   "name": "python3"
  },
  "language_info": {
   "codemirror_mode": {
    "name": "ipython",
    "version": 3
   },
   "file_extension": ".py",
   "mimetype": "text/x-python",
   "name": "python",
   "nbconvert_exporter": "python",
   "pygments_lexer": "ipython3",
   "version": "3.9.12"
  }
 },
 "nbformat": 4,
 "nbformat_minor": 5
}
