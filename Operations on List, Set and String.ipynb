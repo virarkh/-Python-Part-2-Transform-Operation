{
 "cells": [
  {
   "cell_type": "markdown",
   "id": "4add8fc7",
   "metadata": {},
   "source": [
    "## len() function\n",
    "<hr>\n",
    "The len() function returns the number of items in an object. When the object is a string, the len() function returns the number of characters in the string."
   ]
  },
  {
   "cell_type": "code",
   "execution_count": 28,
   "id": "f483f46f",
   "metadata": {},
   "outputs": [
    {
     "name": "stdout",
     "output_type": "stream",
     "text": [
      "Display the len_list\n",
      "['Hi!', \"Let's see my python portfolio\", 'Part', '-', 2]\n"
     ]
    }
   ],
   "source": [
    "len_list = [\"Hi!\", \"Let's see my python portfolio\", \"Part\", \"-\", 2]\n",
    "\n",
    "print(\"Display the len_list\")\n",
    "print(len_list)"
   ]
  },
  {
   "cell_type": "code",
   "execution_count": 29,
   "id": "5035f32c",
   "metadata": {},
   "outputs": [
    {
     "data": {
      "text/plain": [
       "5"
      ]
     },
     "execution_count": 29,
     "metadata": {},
     "output_type": "execute_result"
    }
   ],
   "source": [
    "len(len_list)"
   ]
  },
  {
   "cell_type": "code",
   "execution_count": 30,
   "id": "e21d11ba",
   "metadata": {},
   "outputs": [
    {
     "name": "stdout",
     "output_type": "stream",
     "text": [
      "Display the len_set\n",
      "{2, 'Part', 'Hi!', \"Let's see my python portfolio\", '-'}\n"
     ]
    }
   ],
   "source": [
    "len_set = {\"Hi!\", \"Let's see my python portfolio\", \"Part\", \"-\", 2}\n",
    "\n",
    "print(\"Display the len_set\")\n",
    "print(len_set)"
   ]
  },
  {
   "cell_type": "code",
   "execution_count": 31,
   "id": "39fd7d27",
   "metadata": {},
   "outputs": [
    {
     "data": {
      "text/plain": [
       "5"
      ]
     },
     "execution_count": 31,
     "metadata": {},
     "output_type": "execute_result"
    }
   ],
   "source": [
    "len(len_set)"
   ]
  },
  {
   "cell_type": "code",
   "execution_count": 32,
   "id": "3fe1ef1c",
   "metadata": {},
   "outputs": [
    {
     "name": "stdout",
     "output_type": "stream",
     "text": [
      "Display len_string\n",
      "Hi! Let's see my python portfolio part - 2\n"
     ]
    }
   ],
   "source": [
    "len_string = \"Hi! Let's see my python portfolio part - 2\"\n",
    "\n",
    "print(\"Display len_string\")\n",
    "print(len_string)"
   ]
  },
  {
   "cell_type": "code",
   "execution_count": 33,
   "id": "f4b2dc3d",
   "metadata": {},
   "outputs": [
    {
     "data": {
      "text/plain": [
       "42"
      ]
     },
     "execution_count": 33,
     "metadata": {},
     "output_type": "execute_result"
    }
   ],
   "source": [
    "len(len_string)"
   ]
  },
  {
   "cell_type": "markdown",
   "id": "8f00b4c7",
   "metadata": {},
   "source": [
    "<br>"
   ]
  },
  {
   "cell_type": "markdown",
   "id": "f17671ff",
   "metadata": {},
   "source": [
    "## min() function\n",
    "<hr>\n",
    "Return item with the lowest value. "
   ]
  },
  {
   "cell_type": "code",
   "execution_count": 34,
   "id": "6eec68a6",
   "metadata": {},
   "outputs": [
    {
     "data": {
      "text/plain": [
       "2"
      ]
     },
     "execution_count": 34,
     "metadata": {},
     "output_type": "execute_result"
    }
   ],
   "source": [
    "# Looking min value in List\n",
    "x = [5, 7, 10, 74, 2, 10, 3, 89, 35]\n",
    "\n",
    "min(x)"
   ]
  },
  {
   "cell_type": "code",
   "execution_count": 35,
   "id": "ef735d9a",
   "metadata": {},
   "outputs": [
    {
     "data": {
      "text/plain": [
       "1"
      ]
     },
     "execution_count": 35,
     "metadata": {},
     "output_type": "execute_result"
    }
   ],
   "source": [
    "x = [1, 2, 2, 3, 3, 3, 4, 4, 4, 4]\n",
    "\n",
    "min(x)"
   ]
  },
  {
   "cell_type": "markdown",
   "id": "9e076c63",
   "metadata": {},
   "source": [
    "min() function can also use to looking item that contain string value."
   ]
  },
  {
   "cell_type": "code",
   "execution_count": 36,
   "id": "d6dc7e35",
   "metadata": {},
   "outputs": [
    {
     "data": {
      "text/plain": [
       "'h'"
      ]
     },
     "execution_count": 36,
     "metadata": {},
     "output_type": "execute_result"
    }
   ],
   "source": [
    "y = \"pyhton\"\n",
    "\n",
    "min(y)"
   ]
  },
  {
   "cell_type": "code",
   "execution_count": 37,
   "id": "d59f6275",
   "metadata": {},
   "outputs": [
    {
     "data": {
      "text/plain": [
       "'P'"
      ]
     },
     "execution_count": 37,
     "metadata": {},
     "output_type": "execute_result"
    }
   ],
   "source": [
    "# if there is a capital in a variable, so the capital will be counted first\n",
    "y = \"Python\"\n",
    "\n",
    "min(y)"
   ]
  },
  {
   "cell_type": "code",
   "execution_count": 38,
   "id": "7f9d89b1",
   "metadata": {},
   "outputs": [
    {
     "ename": "TypeError",
     "evalue": "'<' not supported between instances of 'str' and 'int'",
     "output_type": "error",
     "traceback": [
      "\u001b[1;31m---------------------------------------------------------------------------\u001b[0m",
      "\u001b[1;31mTypeError\u001b[0m                                 Traceback (most recent call last)",
      "Input \u001b[1;32mIn [38]\u001b[0m, in \u001b[0;36m<cell line: 3>\u001b[1;34m()\u001b[0m\n\u001b[0;32m      1\u001b[0m z \u001b[38;5;241m=\u001b[39m [\u001b[38;5;241m5\u001b[39m, \u001b[38;5;241m7\u001b[39m, \u001b[38;5;241m10\u001b[39m, \u001b[38;5;241m74\u001b[39m, \u001b[38;5;241m2\u001b[39m, \u001b[38;5;241m10\u001b[39m, \u001b[38;5;241m3\u001b[39m, \u001b[38;5;241m89\u001b[39m, \u001b[38;5;241m35\u001b[39m, \u001b[38;5;124m'\u001b[39m\u001b[38;5;124mPython\u001b[39m\u001b[38;5;124m'\u001b[39m]\n\u001b[1;32m----> 3\u001b[0m \u001b[38;5;28;43mmin\u001b[39;49m\u001b[43m(\u001b[49m\u001b[43mz\u001b[49m\u001b[43m)\u001b[49m\n",
      "\u001b[1;31mTypeError\u001b[0m: '<' not supported between instances of 'str' and 'int'"
     ]
    }
   ],
   "source": [
    "z = [5, 7, 10, 74, 2, 10, 3, 89, 35, 'Python']\n",
    "\n",
    "min(z)"
   ]
  },
  {
   "cell_type": "markdown",
   "id": "eb458df1",
   "metadata": {},
   "source": [
    "<i>Python can't execute to looking min value if the variable contain string and int, even on list. Min only use with same data type. </i>"
   ]
  },
  {
   "cell_type": "markdown",
   "id": "066661f7",
   "metadata": {},
   "source": [
    "<br>"
   ]
  },
  {
   "cell_type": "markdown",
   "id": "b8fd4576",
   "metadata": {},
   "source": [
    "## max() function\n",
    "<hr>\n",
    "Return item with the highest value. "
   ]
  },
  {
   "cell_type": "code",
   "execution_count": 39,
   "id": "d8dd406b",
   "metadata": {},
   "outputs": [
    {
     "data": {
      "text/plain": [
       "89"
      ]
     },
     "execution_count": 39,
     "metadata": {},
     "output_type": "execute_result"
    }
   ],
   "source": [
    "# Looking min value in List\n",
    "x = [5, 7, 10, 74, 2, 10, 3, 89, 35]\n",
    "\n",
    "max(x)"
   ]
  },
  {
   "cell_type": "code",
   "execution_count": 40,
   "id": "a674d62a",
   "metadata": {},
   "outputs": [
    {
     "data": {
      "text/plain": [
       "4"
      ]
     },
     "execution_count": 40,
     "metadata": {},
     "output_type": "execute_result"
    }
   ],
   "source": [
    "x = [1, 2, 2, 3, 3, 3, 4, 4, 4, 4]\n",
    "\n",
    "max(x)"
   ]
  },
  {
   "cell_type": "markdown",
   "id": "15ad2988",
   "metadata": {},
   "source": [
    "max() function can also use to looking item that contain string value."
   ]
  },
  {
   "cell_type": "code",
   "execution_count": 41,
   "id": "dc58c576",
   "metadata": {},
   "outputs": [
    {
     "data": {
      "text/plain": [
       "'y'"
      ]
     },
     "execution_count": 41,
     "metadata": {},
     "output_type": "execute_result"
    }
   ],
   "source": [
    "y = \"pyhton\"\n",
    "\n",
    "max(y)"
   ]
  },
  {
   "cell_type": "code",
   "execution_count": 42,
   "id": "1a45afd7",
   "metadata": {},
   "outputs": [
    {
     "data": {
      "text/plain": [
       "'y'"
      ]
     },
     "execution_count": 42,
     "metadata": {},
     "output_type": "execute_result"
    }
   ],
   "source": [
    "y = \"Python\"\n",
    "\n",
    "max(y)"
   ]
  },
  {
   "cell_type": "code",
   "execution_count": 43,
   "id": "195c72a3",
   "metadata": {},
   "outputs": [
    {
     "ename": "TypeError",
     "evalue": "'>' not supported between instances of 'str' and 'int'",
     "output_type": "error",
     "traceback": [
      "\u001b[1;31m---------------------------------------------------------------------------\u001b[0m",
      "\u001b[1;31mTypeError\u001b[0m                                 Traceback (most recent call last)",
      "Input \u001b[1;32mIn [43]\u001b[0m, in \u001b[0;36m<cell line: 3>\u001b[1;34m()\u001b[0m\n\u001b[0;32m      1\u001b[0m z \u001b[38;5;241m=\u001b[39m [\u001b[38;5;241m5\u001b[39m, \u001b[38;5;241m7\u001b[39m, \u001b[38;5;241m10\u001b[39m, \u001b[38;5;241m74\u001b[39m, \u001b[38;5;241m2\u001b[39m, \u001b[38;5;241m10\u001b[39m, \u001b[38;5;241m3\u001b[39m, \u001b[38;5;241m89\u001b[39m, \u001b[38;5;241m35\u001b[39m, \u001b[38;5;124m'\u001b[39m\u001b[38;5;124mPython\u001b[39m\u001b[38;5;124m'\u001b[39m]\n\u001b[1;32m----> 3\u001b[0m \u001b[38;5;28;43mmax\u001b[39;49m\u001b[43m(\u001b[49m\u001b[43mz\u001b[49m\u001b[43m)\u001b[49m\n",
      "\u001b[1;31mTypeError\u001b[0m: '>' not supported between instances of 'str' and 'int'"
     ]
    }
   ],
   "source": [
    "z = [5, 7, 10, 74, 2, 10, 3, 89, 35, 'Python']\n",
    "\n",
    "max(z)"
   ]
  },
  {
   "cell_type": "markdown",
   "id": "34495df1",
   "metadata": {},
   "source": [
    "<i>Python can't execute to looking max value if the variable contain string and int, even on list. Max only use with same data type. </i>"
   ]
  },
  {
   "cell_type": "markdown",
   "id": "d059c6ad",
   "metadata": {},
   "source": [
    "<br>"
   ]
  },
  {
   "cell_type": "markdown",
   "id": "728551a4",
   "metadata": {},
   "source": [
    "## Merge\n",
    "<hr>\n",
    "Merge in Python use to combine value together"
   ]
  },
  {
   "cell_type": "code",
   "execution_count": 44,
   "id": "7c1cd8f8",
   "metadata": {},
   "outputs": [],
   "source": [
    "a = [1, 2, 3, 4]\n",
    "b = [5, 6, 7, 8]\n",
    "c = [\"MyEduSolve\", \"Studi Independen\", \"Batch 3\"]\n",
    "d = [True, 2+6j, 9, \"Python\"]"
   ]
  },
  {
   "cell_type": "code",
   "execution_count": 45,
   "id": "f76bf592",
   "metadata": {},
   "outputs": [
    {
     "data": {
      "text/plain": [
       "[1, 2, 3, 4, 5, 6, 7, 8]"
      ]
     },
     "execution_count": 45,
     "metadata": {},
     "output_type": "execute_result"
    }
   ],
   "source": [
    "a + b"
   ]
  },
  {
   "cell_type": "code",
   "execution_count": 46,
   "id": "c671813a",
   "metadata": {},
   "outputs": [
    {
     "data": {
      "text/plain": [
       "[1, 2, 3, 4, 'MyEduSolve', 'Studi Independen', 'Batch 3']"
      ]
     },
     "execution_count": 46,
     "metadata": {},
     "output_type": "execute_result"
    }
   ],
   "source": [
    "a + c"
   ]
  },
  {
   "cell_type": "code",
   "execution_count": 47,
   "id": "2699d88b",
   "metadata": {},
   "outputs": [
    {
     "data": {
      "text/plain": [
       "[1, 2, 3, 4, 5, 6, 7, 8, True, (2+6j), 9, 'Python']"
      ]
     },
     "execution_count": 47,
     "metadata": {},
     "output_type": "execute_result"
    }
   ],
   "source": [
    "a + b + d"
   ]
  },
  {
   "cell_type": "markdown",
   "id": "a7fdbdd1",
   "metadata": {},
   "source": [
    "<br>"
   ]
  },
  {
   "cell_type": "markdown",
   "id": "8b80018c",
   "metadata": {},
   "source": [
    "## Replication\n",
    "<hr>\n",
    "Replication used to repeat value in object by amount of times equivalent to the integer value."
   ]
  },
  {
   "cell_type": "code",
   "execution_count": 48,
   "id": "d3e16ec3",
   "metadata": {},
   "outputs": [],
   "source": [
    "a = [1, 2, 3, 4]"
   ]
  },
  {
   "cell_type": "code",
   "execution_count": 49,
   "id": "27c567ad",
   "metadata": {},
   "outputs": [
    {
     "name": "stdout",
     "output_type": "stream",
     "text": [
      "[1, 2, 3, 4, 1, 2, 3, 4]\n"
     ]
    }
   ],
   "source": [
    "b = a * 2\n",
    "\n",
    "print(b)"
   ]
  },
  {
   "cell_type": "code",
   "execution_count": 50,
   "id": "4e41fee9",
   "metadata": {},
   "outputs": [
    {
     "data": {
      "text/plain": [
       "[1, 2, 3, 4, 1, 2, 3, 4, 1, 2, 3, 4, 1, 2, 3, 4]"
      ]
     },
     "execution_count": 50,
     "metadata": {},
     "output_type": "execute_result"
    }
   ],
   "source": [
    "b * 2"
   ]
  },
  {
   "cell_type": "markdown",
   "id": "8d76e1f5",
   "metadata": {},
   "source": [
    "<br>"
   ]
  },
  {
   "cell_type": "markdown",
   "id": "6bcbed59",
   "metadata": {},
   "source": [
    "## range() function\n",
    "<hr>\n",
    "The range() function returns a sequence of numbers, starting from 0 by default, and increments by 1 (by default), and stops before a specified number."
   ]
  },
  {
   "cell_type": "code",
   "execution_count": 51,
   "id": "333171b8",
   "metadata": {},
   "outputs": [
    {
     "name": "stdout",
     "output_type": "stream",
     "text": [
      "0\n",
      "1\n",
      "2\n",
      "3\n",
      "4\n",
      "5\n",
      "6\n",
      "7\n"
     ]
    }
   ],
   "source": [
    "for x in range(8):\n",
    "    print(x)"
   ]
  },
  {
   "cell_type": "code",
   "execution_count": 52,
   "id": "bdbde302",
   "metadata": {},
   "outputs": [
    {
     "name": "stdout",
     "output_type": "stream",
     "text": [
      "Bilangan ke - 1\n",
      "Bilangan ke - 2\n",
      "Bilangan ke - 3\n",
      "Bilangan ke - 4\n",
      "Bilangan ke - 5\n",
      "Bilangan ke - 6\n",
      "Bilangan ke - 7\n",
      "Bilangan ke - 8\n"
     ]
    }
   ],
   "source": [
    "for x in range(8):\n",
    "    print(\"Bilangan ke -\", x + 1)"
   ]
  },
  {
   "cell_type": "code",
   "execution_count": 53,
   "id": "bd3b504b",
   "metadata": {},
   "outputs": [
    {
     "name": "stdout",
     "output_type": "stream",
     "text": [
      "Bilangan ke - 1\n",
      "Bilangan ke - 2\n",
      "Bilangan ke - 3\n",
      "Bilangan ke - 4\n",
      "Bilangan ke - 5\n",
      "Bilangan ke - 6\n",
      "Bilangan ke - 7\n",
      "Bilangan ke - 8\n"
     ]
    }
   ],
   "source": [
    "for x in range(1,9):\n",
    "    print(\"Bilangan ke -\", x)"
   ]
  },
  {
   "cell_type": "code",
   "execution_count": 54,
   "id": "fa8f7c3e",
   "metadata": {},
   "outputs": [
    {
     "name": "stdout",
     "output_type": "stream",
     "text": [
      "2\n",
      "4\n",
      "6\n",
      "8\n",
      "10\n"
     ]
    }
   ],
   "source": [
    "for x in range(2, 11, 2):\n",
    "    print(x)"
   ]
  },
  {
   "cell_type": "code",
   "execution_count": 55,
   "id": "78b7091d",
   "metadata": {},
   "outputs": [
    {
     "name": "stdout",
     "output_type": "stream",
     "text": [
      "-1\n",
      "-3\n",
      "-5\n",
      "-7\n",
      "-9\n",
      "-11\n",
      "-13\n",
      "-15\n",
      "-17\n",
      "-19\n"
     ]
    }
   ],
   "source": [
    "for x in range(1, 21, 2):\n",
    "    print(-x)"
   ]
  },
  {
   "cell_type": "markdown",
   "id": "eaa6322a",
   "metadata": {},
   "source": [
    "<br>"
   ]
  },
  {
   "cell_type": "markdown",
   "id": "b47e6a04",
   "metadata": {},
   "source": [
    "## in function\n",
    "<hr>\n",
    "This operator is used to check whether an element is present in the passed list or not. Returns true if the element is present in the list otherwise returns false."
   ]
  },
  {
   "cell_type": "code",
   "execution_count": 56,
   "id": "a828520a",
   "metadata": {},
   "outputs": [
    {
     "data": {
      "text/plain": [
       "True"
      ]
     },
     "execution_count": 56,
     "metadata": {},
     "output_type": "execute_result"
    }
   ],
   "source": [
    "a = [1, 2, 3, 4]\n",
    "\n",
    "4 in a"
   ]
  },
  {
   "cell_type": "code",
   "execution_count": 57,
   "id": "88eb9ce7",
   "metadata": {},
   "outputs": [],
   "source": [
    "weekend = [\"Saturday\", \"Sunday\"]"
   ]
  },
  {
   "cell_type": "code",
   "execution_count": 58,
   "id": "e5482324",
   "metadata": {},
   "outputs": [
    {
     "data": {
      "text/plain": [
       "False"
      ]
     },
     "execution_count": 58,
     "metadata": {},
     "output_type": "execute_result"
    }
   ],
   "source": [
    "\"Monday\" in weekend"
   ]
  },
  {
   "cell_type": "code",
   "execution_count": 59,
   "id": "a4e4f1a8",
   "metadata": {},
   "outputs": [
    {
     "data": {
      "text/plain": [
       "True"
      ]
     },
     "execution_count": 59,
     "metadata": {},
     "output_type": "execute_result"
    }
   ],
   "source": [
    "\"Saturday\" in weekend"
   ]
  },
  {
   "cell_type": "code",
   "execution_count": 60,
   "id": "f551da87",
   "metadata": {},
   "outputs": [],
   "source": [
    "indonesia = [\"Sumatra\", \"Jawa\", \"Sulawesi\"]"
   ]
  },
  {
   "cell_type": "code",
   "execution_count": 61,
   "id": "26afa823",
   "metadata": {},
   "outputs": [
    {
     "data": {
      "text/plain": [
       "True"
      ]
     },
     "execution_count": 61,
     "metadata": {},
     "output_type": "execute_result"
    }
   ],
   "source": [
    "\"Jawa\" in indonesia"
   ]
  },
  {
   "cell_type": "code",
   "execution_count": 62,
   "id": "4f86ee14",
   "metadata": {},
   "outputs": [
    {
     "data": {
      "text/plain": [
       "True"
      ]
     },
     "execution_count": 62,
     "metadata": {},
     "output_type": "execute_result"
    }
   ],
   "source": [
    "\"Sumatra\" and \"Sulawesi\" in indonesia"
   ]
  },
  {
   "cell_type": "code",
   "execution_count": 63,
   "id": "156595c3",
   "metadata": {},
   "outputs": [
    {
     "data": {
      "text/plain": [
       "False"
      ]
     },
     "execution_count": 63,
     "metadata": {},
     "output_type": "execute_result"
    }
   ],
   "source": [
    "\"Sentosa Island\" in indonesia"
   ]
  },
  {
   "cell_type": "markdown",
   "id": "cdb9813c",
   "metadata": {},
   "source": [
    "<br>"
   ]
  },
  {
   "cell_type": "markdown",
   "id": "78402f29",
   "metadata": {},
   "source": [
    "## not in function\n",
    "<hr>\n",
    "This operator is used to check whether an element is not present in the passed list or not. Returns true if the element is not present in the list otherwise returns false."
   ]
  },
  {
   "cell_type": "code",
   "execution_count": 64,
   "id": "bea5e8a4",
   "metadata": {},
   "outputs": [
    {
     "data": {
      "text/plain": [
       "False"
      ]
     },
     "execution_count": 64,
     "metadata": {},
     "output_type": "execute_result"
    }
   ],
   "source": [
    "a = [1, 2, 3, 4]\n",
    "\n",
    "4 not in a"
   ]
  },
  {
   "cell_type": "code",
   "execution_count": 65,
   "id": "77cdafbe",
   "metadata": {},
   "outputs": [],
   "source": [
    "weekend = [\"Saturday\", \"Sunday\"]"
   ]
  },
  {
   "cell_type": "code",
   "execution_count": 66,
   "id": "d1c53e8c",
   "metadata": {},
   "outputs": [
    {
     "data": {
      "text/plain": [
       "True"
      ]
     },
     "execution_count": 66,
     "metadata": {},
     "output_type": "execute_result"
    }
   ],
   "source": [
    "\"Monday\" not in weekend"
   ]
  },
  {
   "cell_type": "code",
   "execution_count": 67,
   "id": "1dc328f7",
   "metadata": {},
   "outputs": [
    {
     "data": {
      "text/plain": [
       "False"
      ]
     },
     "execution_count": 67,
     "metadata": {},
     "output_type": "execute_result"
    }
   ],
   "source": [
    "\"Saturday\" not in weekend"
   ]
  },
  {
   "cell_type": "code",
   "execution_count": 68,
   "id": "2ca0fcca",
   "metadata": {},
   "outputs": [],
   "source": [
    "indonesia = [\"Sumatra\", \"Jawa\", \"Sulawesi\"]"
   ]
  },
  {
   "cell_type": "code",
   "execution_count": 69,
   "id": "3182ca1b",
   "metadata": {},
   "outputs": [
    {
     "data": {
      "text/plain": [
       "False"
      ]
     },
     "execution_count": 69,
     "metadata": {},
     "output_type": "execute_result"
    }
   ],
   "source": [
    "\"Jawa\" not in indonesia"
   ]
  },
  {
   "cell_type": "code",
   "execution_count": 70,
   "id": "d5ca2e2f",
   "metadata": {},
   "outputs": [
    {
     "data": {
      "text/plain": [
       "True"
      ]
     },
     "execution_count": 70,
     "metadata": {},
     "output_type": "execute_result"
    }
   ],
   "source": [
    "\"Sumatra\" and \"Sulawesi\" in indonesia"
   ]
  },
  {
   "cell_type": "code",
   "execution_count": 71,
   "id": "9c9ed4f5",
   "metadata": {
    "scrolled": true
   },
   "outputs": [
    {
     "data": {
      "text/plain": [
       "True"
      ]
     },
     "execution_count": 71,
     "metadata": {},
     "output_type": "execute_result"
    }
   ],
   "source": [
    "\"Sentosa Island\" not in indonesia"
   ]
  },
  {
   "cell_type": "markdown",
   "id": "94e8fb33",
   "metadata": {},
   "source": [
    "<br>"
   ]
  },
  {
   "cell_type": "markdown",
   "id": "d386502d",
   "metadata": {},
   "source": [
    "## Assign Value in Multiple Variable\n",
    "<hr>"
   ]
  },
  {
   "cell_type": "code",
   "execution_count": 72,
   "id": "b7b14ef3",
   "metadata": {},
   "outputs": [],
   "source": [
    "date = [17, \"Agustus\", 1945]"
   ]
  },
  {
   "cell_type": "code",
   "execution_count": 73,
   "id": "e1d21a78",
   "metadata": {},
   "outputs": [
    {
     "name": "stdout",
     "output_type": "stream",
     "text": [
      "17\n"
     ]
    }
   ],
   "source": [
    "tanggal = date[0]\n",
    "\n",
    "print(tanggal)"
   ]
  },
  {
   "cell_type": "code",
   "execution_count": 74,
   "id": "eadb28df",
   "metadata": {},
   "outputs": [
    {
     "name": "stdout",
     "output_type": "stream",
     "text": [
      "Agustus\n"
     ]
    }
   ],
   "source": [
    "bulan = date[1]\n",
    "\n",
    "print(bulan)"
   ]
  },
  {
   "cell_type": "code",
   "execution_count": 75,
   "id": "22c1bc0b",
   "metadata": {},
   "outputs": [
    {
     "name": "stdout",
     "output_type": "stream",
     "text": [
      "Agustus\n"
     ]
    }
   ],
   "source": [
    "tahun = date[2]\n",
    "\n",
    "print(bulan)"
   ]
  },
  {
   "cell_type": "code",
   "execution_count": 76,
   "id": "778c095c",
   "metadata": {},
   "outputs": [],
   "source": [
    "tanggal, bulan, tahun = date"
   ]
  },
  {
   "cell_type": "code",
   "execution_count": 77,
   "id": "f4f4280a",
   "metadata": {},
   "outputs": [
    {
     "data": {
      "text/plain": [
       "17"
      ]
     },
     "execution_count": 77,
     "metadata": {},
     "output_type": "execute_result"
    }
   ],
   "source": [
    "tanggal"
   ]
  },
  {
   "cell_type": "code",
   "execution_count": 78,
   "id": "58319568",
   "metadata": {},
   "outputs": [
    {
     "data": {
      "text/plain": [
       "'Agustus'"
      ]
     },
     "execution_count": 78,
     "metadata": {},
     "output_type": "execute_result"
    }
   ],
   "source": [
    "bulan"
   ]
  },
  {
   "cell_type": "code",
   "execution_count": 79,
   "id": "195e99bd",
   "metadata": {},
   "outputs": [
    {
     "data": {
      "text/plain": [
       "1945"
      ]
     },
     "execution_count": 79,
     "metadata": {},
     "output_type": "execute_result"
    }
   ],
   "source": [
    "tahun"
   ]
  },
  {
   "cell_type": "code",
   "execution_count": 80,
   "id": "fb47b6f2",
   "metadata": {},
   "outputs": [
    {
     "ename": "ValueError",
     "evalue": "not enough values to unpack (expected 4, got 3)",
     "output_type": "error",
     "traceback": [
      "\u001b[1;31m---------------------------------------------------------------------------\u001b[0m",
      "\u001b[1;31mValueError\u001b[0m                                Traceback (most recent call last)",
      "Input \u001b[1;32mIn [80]\u001b[0m, in \u001b[0;36m<cell line: 1>\u001b[1;34m()\u001b[0m\n\u001b[1;32m----> 1\u001b[0m jam, tanggal, bulan, tahun \u001b[38;5;241m=\u001b[39m date\n",
      "\u001b[1;31mValueError\u001b[0m: not enough values to unpack (expected 4, got 3)"
     ]
    }
   ],
   "source": [
    "jam, tanggal, bulan, tahun = date"
   ]
  },
  {
   "cell_type": "markdown",
   "id": "b83e64e4",
   "metadata": {},
   "source": [
    "<br>"
   ]
  },
  {
   "cell_type": "markdown",
   "id": "b91eca9f",
   "metadata": {},
   "source": [
    "## sort() function\n",
    "<hr>\n",
    "The sorted() function returns a sorted list ascending by default"
   ]
  },
  {
   "cell_type": "code",
   "execution_count": 81,
   "id": "6803d74a",
   "metadata": {},
   "outputs": [
    {
     "name": "stdout",
     "output_type": "stream",
     "text": [
      "[40, 20, 30, 10, 50]\n"
     ]
    }
   ],
   "source": [
    "a = [40, 20, 30, 10, 50]\n",
    "\n",
    "print(a)"
   ]
  },
  {
   "cell_type": "code",
   "execution_count": 82,
   "id": "6df7d008",
   "metadata": {},
   "outputs": [
    {
     "name": "stdout",
     "output_type": "stream",
     "text": [
      "[10, 20, 30, 40, 50]\n"
     ]
    }
   ],
   "source": [
    "a.sort()\n",
    "\n",
    "print(a)"
   ]
  },
  {
   "cell_type": "code",
   "execution_count": 83,
   "id": "9a2fd820",
   "metadata": {},
   "outputs": [
    {
     "name": "stdout",
     "output_type": "stream",
     "text": [
      "['Apple', 'Cherry', 'Banana', 'Kiwi']\n"
     ]
    }
   ],
   "source": [
    "fruit = [\"Apple\", \"Cherry\", \"Banana\", \"Kiwi\"]\n",
    "\n",
    "print(fruit)"
   ]
  },
  {
   "cell_type": "code",
   "execution_count": 84,
   "id": "f96eb99e",
   "metadata": {},
   "outputs": [
    {
     "name": "stdout",
     "output_type": "stream",
     "text": [
      "['Apple', 'Banana', 'Cherry', 'Kiwi']\n"
     ]
    }
   ],
   "source": [
    "fruit.sort()\n",
    "\n",
    "print(fruit)"
   ]
  },
  {
   "cell_type": "code",
   "execution_count": 85,
   "id": "260849dd",
   "metadata": {},
   "outputs": [
    {
     "name": "stdout",
     "output_type": "stream",
     "text": [
      "['Kiwi', 'Cherry', 'Banana', 'Apple']\n"
     ]
    }
   ],
   "source": [
    "# The reverse() method reverses the elements of the list.\n",
    "fruit.sort(reverse = True)\n",
    "\n",
    "print(fruit)"
   ]
  },
  {
   "cell_type": "code",
   "execution_count": 86,
   "id": "761bb80c",
   "metadata": {},
   "outputs": [
    {
     "name": "stdout",
     "output_type": "stream",
     "text": [
      "['Apple', 'cherry', 'banana', 'Kiwi']\n"
     ]
    }
   ],
   "source": [
    "fruit = [\"Apple\", \"cherry\", \"banana\", \"Kiwi\"]\n",
    "\n",
    "print(fruit)"
   ]
  },
  {
   "cell_type": "code",
   "execution_count": 87,
   "id": "c9a10afb",
   "metadata": {},
   "outputs": [
    {
     "name": "stdout",
     "output_type": "stream",
     "text": [
      "['Apple', 'Kiwi', 'banana', 'cherry']\n"
     ]
    }
   ],
   "source": [
    "fruit.sort()\n",
    "\n",
    "print(fruit)"
   ]
  },
  {
   "cell_type": "code",
   "execution_count": 88,
   "id": "13db2468",
   "metadata": {},
   "outputs": [
    {
     "name": "stdout",
     "output_type": "stream",
     "text": [
      "['Apple', 'banana', 'cherry', 'Kiwi']\n"
     ]
    }
   ],
   "source": [
    "fruit1 = [\"Apple\", \"cherry\", \"banana\", \"Kiwi\"]\n",
    "\n",
    "fruit1.sort(key=str.lower)\n",
    "\n",
    "print(fruit1)"
   ]
  },
  {
   "cell_type": "code",
   "execution_count": null,
   "id": "72ddc6fb",
   "metadata": {},
   "outputs": [],
   "source": []
  }
 ],
 "metadata": {
  "kernelspec": {
   "display_name": "Python 3 (ipykernel)",
   "language": "python",
   "name": "python3"
  },
  "language_info": {
   "codemirror_mode": {
    "name": "ipython",
    "version": 3
   },
   "file_extension": ".py",
   "mimetype": "text/x-python",
   "name": "python",
   "nbconvert_exporter": "python",
   "pygments_lexer": "ipython3",
   "version": "3.9.12"
  }
 },
 "nbformat": 4,
 "nbformat_minor": 5
}
