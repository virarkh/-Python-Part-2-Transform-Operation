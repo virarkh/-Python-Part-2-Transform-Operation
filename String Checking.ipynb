{
 "cells": [
  {
   "cell_type": "markdown",
   "id": "30d15700",
   "metadata": {},
   "source": [
    "# String Checking\n",
    "\n",
    "While working with different datatypes, we might come across a time, where we need to test the datatype for its nature. These functions give ways to test a variable against the data type it is."
   ]
  },
  {
   "cell_type": "markdown",
   "id": "a0fa0810",
   "metadata": {},
   "source": [
    "## isupper()\n",
    "The string isupper() method returns whether or not all characters in a string are uppercased or not.\n",
    "The isupper() method returns:\n",
    "\n",
    "* True if all characters in a string are uppercase characters\n",
    "* False if any characters in a string are lowercase characters\n",
    "\n",
    "example: "
   ]
  },
  {
   "cell_type": "code",
   "execution_count": 4,
   "id": "10b381cc",
   "metadata": {},
   "outputs": [],
   "source": [
    "a = 'DATA SCIENCE'"
   ]
  },
  {
   "cell_type": "code",
   "execution_count": 5,
   "id": "a138b976",
   "metadata": {},
   "outputs": [
    {
     "data": {
      "text/plain": [
       "True"
      ]
     },
     "execution_count": 5,
     "metadata": {},
     "output_type": "execute_result"
    }
   ],
   "source": [
    "a.isupper()"
   ]
  },
  {
   "cell_type": "code",
   "execution_count": 6,
   "id": "515c34cc",
   "metadata": {},
   "outputs": [],
   "source": [
    "a = \"Data Science\""
   ]
  },
  {
   "cell_type": "code",
   "execution_count": 7,
   "id": "b79125b4",
   "metadata": {},
   "outputs": [
    {
     "data": {
      "text/plain": [
       "False"
      ]
     },
     "execution_count": 7,
     "metadata": {},
     "output_type": "execute_result"
    }
   ],
   "source": [
    "a.isupper()"
   ]
  },
  {
   "cell_type": "markdown",
   "id": "048bd218",
   "metadata": {},
   "source": [
    "## islower()\n",
    "\n",
    "The islower() method returns True if all alphabets in a string are lowercase alphabets. If the string contains at least one uppercase alphabet, it returns False.\n",
    "\n",
    "The islower() method returns:\n",
    "\n",
    "* True if all alphabets that exist in the string are lowercase alphabets.\n",
    "* False if the string contains at least one uppercase alphabet.\n",
    "\n",
    "example:"
   ]
  },
  {
   "cell_type": "code",
   "execution_count": 8,
   "id": "c263479d",
   "metadata": {},
   "outputs": [],
   "source": [
    "a = 'data science'"
   ]
  },
  {
   "cell_type": "code",
   "execution_count": 9,
   "id": "75639b45",
   "metadata": {},
   "outputs": [
    {
     "data": {
      "text/plain": [
       "True"
      ]
     },
     "execution_count": 9,
     "metadata": {},
     "output_type": "execute_result"
    }
   ],
   "source": [
    "a.islower()"
   ]
  },
  {
   "cell_type": "code",
   "execution_count": 10,
   "id": "f6398950",
   "metadata": {},
   "outputs": [],
   "source": [
    "a = \"Data Science\""
   ]
  },
  {
   "cell_type": "code",
   "execution_count": 11,
   "id": "c92625ae",
   "metadata": {},
   "outputs": [
    {
     "data": {
      "text/plain": [
       "False"
      ]
     },
     "execution_count": 11,
     "metadata": {},
     "output_type": "execute_result"
    }
   ],
   "source": [
    "a.islower()"
   ]
  },
  {
   "cell_type": "markdown",
   "id": "9848e5c7",
   "metadata": {},
   "source": [
    "## isalpha()\n",
    "The isalpha() method returns True if all characters in the string are alphabets. If not, it returns False.\n",
    "\n",
    "The isalpha() returns:\n",
    "\n",
    "* True if all characters in the string are alphabets (can be both lowercase and uppercase).\n",
    "* False if at least one character is not alphabet.\n",
    "\n",
    "example:"
   ]
  },
  {
   "cell_type": "code",
   "execution_count": 12,
   "id": "8a774a48",
   "metadata": {},
   "outputs": [
    {
     "name": "stdout",
     "output_type": "stream",
     "text": [
      "True\n"
     ]
    }
   ],
   "source": [
    "print('Data'.isalpha())"
   ]
  },
  {
   "cell_type": "markdown",
   "id": "997c79be",
   "metadata": {},
   "source": [
    "## isalnum()\n",
    "The isalnum() method returns True if all characters in the string are alphanumeric (either alphabets or numbers). If not, it returns False.\n",
    "\n",
    "The isalnum() method returns:\n",
    "\n",
    "* True - if all characters in the string are alphanumeric\n",
    "* False - if at least one character is not alphanumeric\n",
    "\n",
    "example:"
   ]
  },
  {
   "cell_type": "code",
   "execution_count": 13,
   "id": "50f35b49",
   "metadata": {},
   "outputs": [
    {
     "name": "stdout",
     "output_type": "stream",
     "text": [
      "True\n"
     ]
    }
   ],
   "source": [
    "print('alnum2305'.isalnum())"
   ]
  },
  {
   "cell_type": "markdown",
   "id": "ad848c2c",
   "metadata": {},
   "source": [
    "## isdecimal()\n",
    "The isdecimal() method returns True if all characters in a string are decimal characters. If not, it returns False.\n",
    "\n",
    "The isdecimal() returns:\n",
    "\n",
    "* True if all characters in the string are decimal characters.\n",
    "* False if at least one character is not decimal character.\n",
    "\n",
    "example:"
   ]
  },
  {
   "cell_type": "code",
   "execution_count": 14,
   "id": "456426b5",
   "metadata": {},
   "outputs": [
    {
     "name": "stdout",
     "output_type": "stream",
     "text": [
      "True\n"
     ]
    }
   ],
   "source": [
    "print('2305'.isdecimal())"
   ]
  },
  {
   "cell_type": "markdown",
   "id": "6b30a0a6",
   "metadata": {},
   "source": [
    "## isspace()\n",
    "The isspace() method returns True if there are only whitespace characters in the string. If not, it return False.\n",
    "Characters that are used for spacing are called whitespace characters. For example: tabs, spaces, newline, etc.\n",
    "isspace() method returns:\n",
    "\n",
    "* True if all characters in the string are whitespace characters\n",
    "* False if the string is empty or contains at least one non-printable character\n",
    "\n",
    "example:"
   ]
  },
  {
   "cell_type": "code",
   "execution_count": 15,
   "id": "ab11b876",
   "metadata": {},
   "outputs": [
    {
     "name": "stdout",
     "output_type": "stream",
     "text": [
      "True\n"
     ]
    }
   ],
   "source": [
    "print(' '.isspace())"
   ]
  },
  {
   "cell_type": "markdown",
   "id": "849f9912",
   "metadata": {},
   "source": [
    "## istitle()\n",
    "The istitle() returns True if the string is a titlecased string. If not, it returns False.\n",
    "The istitle() method returns:\n",
    "\n",
    "* True if the string is a titlecased string\n",
    "* False if the string is not a titlecased string or an empty string"
   ]
  },
  {
   "cell_type": "code",
   "execution_count": 16,
   "id": "683d383b",
   "metadata": {},
   "outputs": [
    {
     "name": "stdout",
     "output_type": "stream",
     "text": [
      "True\n"
     ]
    }
   ],
   "source": [
    "print('Data Science'.istitle())"
   ]
  },
  {
   "cell_type": "code",
   "execution_count": null,
   "id": "83f7a04e",
   "metadata": {},
   "outputs": [],
   "source": []
  }
 ],
 "metadata": {
  "kernelspec": {
   "display_name": "Python 3",
   "language": "python",
   "name": "python3"
  },
  "language_info": {
   "codemirror_mode": {
    "name": "ipython",
    "version": 3
   },
   "file_extension": ".py",
   "mimetype": "text/x-python",
   "name": "python",
   "nbconvert_exporter": "python",
   "pygments_lexer": "ipython3",
   "version": "3.6.13"
  }
 },
 "nbformat": 4,
 "nbformat_minor": 5
}
