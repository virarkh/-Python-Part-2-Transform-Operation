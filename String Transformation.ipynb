{
 "cells": [
  {
   "cell_type": "markdown",
   "id": "e2181cc7",
   "metadata": {},
   "source": [
    "# String Transformation"
   ]
  },
  {
   "cell_type": "markdown",
   "id": "1b612c20",
   "metadata": {},
   "source": [
    "## upper()\n",
    "The upper() method converts all lowercase characters in a string into uppercase characters and returns it.\n",
    "\n",
    "example:"
   ]
  },
  {
   "cell_type": "code",
   "execution_count": 1,
   "id": "0809c230",
   "metadata": {},
   "outputs": [],
   "source": [
    "nama = \"soe dal mi\""
   ]
  },
  {
   "cell_type": "code",
   "execution_count": 2,
   "id": "6be3c6f9",
   "metadata": {},
   "outputs": [
    {
     "data": {
      "text/plain": [
       "'SOE DAL MI'"
      ]
     },
     "execution_count": 2,
     "metadata": {},
     "output_type": "execute_result"
    }
   ],
   "source": [
    "nama.upper()"
   ]
  },
  {
   "cell_type": "markdown",
   "id": "88eba9a3",
   "metadata": {},
   "source": [
    "## lower()\n",
    "The lower() method converts all uppercase characters in a string into lowercase characters and returns it.\n",
    "\n",
    "example:"
   ]
  },
  {
   "cell_type": "code",
   "execution_count": 4,
   "id": "c90326bb",
   "metadata": {},
   "outputs": [],
   "source": [
    "nama = \"SOE DAL MI\""
   ]
  },
  {
   "cell_type": "code",
   "execution_count": 5,
   "id": "df6290e2",
   "metadata": {},
   "outputs": [
    {
     "data": {
      "text/plain": [
       "'soe dal mi'"
      ]
     },
     "execution_count": 5,
     "metadata": {},
     "output_type": "execute_result"
    }
   ],
   "source": [
    "nama.lower()"
   ]
  },
  {
   "cell_type": "code",
   "execution_count": 7,
   "id": "d0b19d4e",
   "metadata": {},
   "outputs": [],
   "source": [
    "nama = \"JIN CHO YEON\""
   ]
  },
  {
   "cell_type": "code",
   "execution_count": 8,
   "id": "c479e172",
   "metadata": {},
   "outputs": [
    {
     "data": {
      "text/plain": [
       "'jin cho yeon'"
      ]
     },
     "execution_count": 8,
     "metadata": {},
     "output_type": "execute_result"
    }
   ],
   "source": [
    "nama.lower()"
   ]
  },
  {
   "cell_type": "code",
   "execution_count": 9,
   "id": "4a23f6b9",
   "metadata": {},
   "outputs": [
    {
     "data": {
      "text/plain": [
       "'JIN CHO YEON'"
      ]
     },
     "execution_count": 9,
     "metadata": {},
     "output_type": "execute_result"
    }
   ],
   "source": [
    "nama.upper()"
   ]
  },
  {
   "cell_type": "code",
   "execution_count": 10,
   "id": "565694cf",
   "metadata": {},
   "outputs": [
    {
     "data": {
      "text/plain": [
       "'jin cho yeon'"
      ]
     },
     "execution_count": 10,
     "metadata": {},
     "output_type": "execute_result"
    }
   ],
   "source": [
    "nama.upper().lower()"
   ]
  },
  {
   "cell_type": "markdown",
   "id": "fcd0998d",
   "metadata": {},
   "source": [
    "## rstrip()\n",
    "The rstrip() method returns a copy of the string with trailing characters removed (based on the string argument passed).\n",
    "\n",
    "example:"
   ]
  },
  {
   "cell_type": "code",
   "execution_count": 11,
   "id": "5948c044",
   "metadata": {},
   "outputs": [],
   "source": [
    "a = \"Data \""
   ]
  },
  {
   "cell_type": "code",
   "execution_count": 12,
   "id": "7180e0e2",
   "metadata": {},
   "outputs": [
    {
     "data": {
      "text/plain": [
       "'Data '"
      ]
     },
     "execution_count": 12,
     "metadata": {},
     "output_type": "execute_result"
    }
   ],
   "source": [
    "a"
   ]
  },
  {
   "cell_type": "code",
   "execution_count": 13,
   "id": "d92bcc9a",
   "metadata": {},
   "outputs": [
    {
     "name": "stdout",
     "output_type": "stream",
     "text": [
      "Data \n"
     ]
    }
   ],
   "source": [
    "print(a)"
   ]
  },
  {
   "cell_type": "code",
   "execution_count": 14,
   "id": "80e28e59",
   "metadata": {},
   "outputs": [
    {
     "data": {
      "text/plain": [
       "'Data'"
      ]
     },
     "execution_count": 14,
     "metadata": {},
     "output_type": "execute_result"
    }
   ],
   "source": [
    "a.rstrip()"
   ]
  },
  {
   "cell_type": "markdown",
   "id": "d9bca588",
   "metadata": {},
   "source": [
    "## lstrip() \n",
    "The lstrip() method returns a copy of the string with leading characters removed (based on the string argument passed).\n",
    "\n",
    "The lstrip() removes characters from the left based on the argument (a string specifying the set of characters to be removed).\n",
    "\n",
    "example:"
   ]
  },
  {
   "cell_type": "code",
   "execution_count": 15,
   "id": "20cc4d28",
   "metadata": {},
   "outputs": [],
   "source": [
    "a = ' Data'"
   ]
  },
  {
   "cell_type": "code",
   "execution_count": 16,
   "id": "9d541a22",
   "metadata": {},
   "outputs": [
    {
     "data": {
      "text/plain": [
       "' Data'"
      ]
     },
     "execution_count": 16,
     "metadata": {},
     "output_type": "execute_result"
    }
   ],
   "source": [
    "a"
   ]
  },
  {
   "cell_type": "code",
   "execution_count": 17,
   "id": "846a4f4a",
   "metadata": {},
   "outputs": [
    {
     "name": "stdout",
     "output_type": "stream",
     "text": [
      " Data\n"
     ]
    }
   ],
   "source": [
    "print(a)"
   ]
  },
  {
   "cell_type": "code",
   "execution_count": 18,
   "id": "367bc0ac",
   "metadata": {},
   "outputs": [
    {
     "data": {
      "text/plain": [
       "'Data'"
      ]
     },
     "execution_count": 18,
     "metadata": {},
     "output_type": "execute_result"
    }
   ],
   "source": [
    "a.lstrip()"
   ]
  },
  {
   "cell_type": "markdown",
   "id": "103f9290",
   "metadata": {},
   "source": [
    "## strip() \n",
    "The strip() method returns a copy of the string by removing both the leading and the trailing characters (based on the string argument passed).\n",
    "\n",
    "example:"
   ]
  },
  {
   "cell_type": "code",
   "execution_count": 19,
   "id": "f25e3bd5",
   "metadata": {},
   "outputs": [],
   "source": [
    "a = \" Data \""
   ]
  },
  {
   "cell_type": "code",
   "execution_count": 20,
   "id": "2ef04f89",
   "metadata": {},
   "outputs": [
    {
     "data": {
      "text/plain": [
       "' Data '"
      ]
     },
     "execution_count": 20,
     "metadata": {},
     "output_type": "execute_result"
    }
   ],
   "source": [
    "a"
   ]
  },
  {
   "cell_type": "code",
   "execution_count": 21,
   "id": "788bb89b",
   "metadata": {},
   "outputs": [
    {
     "data": {
      "text/plain": [
       "'Data'"
      ]
     },
     "execution_count": 21,
     "metadata": {},
     "output_type": "execute_result"
    }
   ],
   "source": [
    "a.strip()"
   ]
  },
  {
   "cell_type": "markdown",
   "id": "eafb535a",
   "metadata": {},
   "source": [
    "### strip() Parameters\n",
    "chars (optional) - a string specifying the set of characters to be removed from the left and right part of the string."
   ]
  },
  {
   "cell_type": "code",
   "execution_count": 22,
   "id": "8de7a826",
   "metadata": {},
   "outputs": [],
   "source": [
    "a = \"DataScienceData\""
   ]
  },
  {
   "cell_type": "code",
   "execution_count": 23,
   "id": "8c34ce29",
   "metadata": {},
   "outputs": [
    {
     "data": {
      "text/plain": [
       "'Science'"
      ]
     },
     "execution_count": 23,
     "metadata": {},
     "output_type": "execute_result"
    }
   ],
   "source": [
    "a.strip(\"Data\")"
   ]
  },
  {
   "cell_type": "code",
   "execution_count": 24,
   "id": "70289a5e",
   "metadata": {},
   "outputs": [],
   "source": [
    "string = '  xoxo love xoxo   '"
   ]
  },
  {
   "cell_type": "code",
   "execution_count": 25,
   "id": "a283fa90",
   "metadata": {},
   "outputs": [
    {
     "name": "stdout",
     "output_type": "stream",
     "text": [
      "xoxo love xoxo\n"
     ]
    }
   ],
   "source": [
    "print(string.strip())"
   ]
  },
  {
   "cell_type": "code",
   "execution_count": 26,
   "id": "6c187b24",
   "metadata": {},
   "outputs": [
    {
     "name": "stdout",
     "output_type": "stream",
     "text": [
      "lov\n"
     ]
    }
   ],
   "source": [
    "print(string.strip(' xoe'))"
   ]
  },
  {
   "cell_type": "markdown",
   "id": "18a9ef19",
   "metadata": {},
   "source": [
    "## startswith()\n",
    "\n",
    "The startswith() method returns True if a string starts with the specified prefix(string). If not, it returns False.\n",
    "\n",
    "example:"
   ]
  },
  {
   "cell_type": "code",
   "execution_count": 27,
   "id": "23030cb1",
   "metadata": {},
   "outputs": [],
   "source": [
    "a = 'Data Science'"
   ]
  },
  {
   "cell_type": "code",
   "execution_count": 28,
   "id": "22be0056",
   "metadata": {},
   "outputs": [
    {
     "data": {
      "text/plain": [
       "False"
      ]
     },
     "execution_count": 28,
     "metadata": {},
     "output_type": "execute_result"
    }
   ],
   "source": [
    "a.startswith('Science')"
   ]
  },
  {
   "cell_type": "code",
   "execution_count": 29,
   "id": "be9af6d8",
   "metadata": {},
   "outputs": [],
   "source": [
    "b = 'Data Science Track'"
   ]
  },
  {
   "cell_type": "code",
   "execution_count": 30,
   "id": "cab26f54",
   "metadata": {},
   "outputs": [
    {
     "data": {
      "text/plain": [
       "True"
      ]
     },
     "execution_count": 30,
     "metadata": {},
     "output_type": "execute_result"
    }
   ],
   "source": [
    "b.startswith('Data')"
   ]
  },
  {
   "cell_type": "code",
   "execution_count": 31,
   "id": "f9835d34",
   "metadata": {},
   "outputs": [
    {
     "data": {
      "text/plain": [
       "True"
      ]
     },
     "execution_count": 31,
     "metadata": {},
     "output_type": "execute_result"
    }
   ],
   "source": [
    "b.startswith('Data Science')"
   ]
  },
  {
   "cell_type": "code",
   "execution_count": 32,
   "id": "d0ec244c",
   "metadata": {},
   "outputs": [
    {
     "data": {
      "text/plain": [
       "False"
      ]
     },
     "execution_count": 32,
     "metadata": {},
     "output_type": "execute_result"
    }
   ],
   "source": [
    "b.startswith('Track')"
   ]
  },
  {
   "cell_type": "markdown",
   "id": "852c0df5",
   "metadata": {},
   "source": [
    "## endswith()\n",
    "\n",
    "The endswith() method returns True if a string ends with the specified suffix. If not, it returns False.\n",
    "\n",
    "example:"
   ]
  },
  {
   "cell_type": "code",
   "execution_count": 33,
   "id": "1fa6b890",
   "metadata": {},
   "outputs": [],
   "source": [
    "a = 'Data Science'"
   ]
  },
  {
   "cell_type": "code",
   "execution_count": 34,
   "id": "6ffcc44b",
   "metadata": {},
   "outputs": [
    {
     "data": {
      "text/plain": [
       "True"
      ]
     },
     "execution_count": 34,
     "metadata": {},
     "output_type": "execute_result"
    }
   ],
   "source": [
    "a.endswith(\"Science\")"
   ]
  },
  {
   "cell_type": "code",
   "execution_count": 35,
   "id": "5eea9636",
   "metadata": {},
   "outputs": [],
   "source": [
    "x = \"the quick brown fox jumps over the lazy dog\""
   ]
  },
  {
   "cell_type": "code",
   "execution_count": 36,
   "id": "99825ddd",
   "metadata": {},
   "outputs": [
    {
     "data": {
      "text/plain": [
       "False"
      ]
     },
     "execution_count": 36,
     "metadata": {},
     "output_type": "execute_result"
    }
   ],
   "source": [
    "x.startswith('The')"
   ]
  },
  {
   "cell_type": "code",
   "execution_count": 37,
   "id": "78293786",
   "metadata": {},
   "outputs": [
    {
     "data": {
      "text/plain": [
       "True"
      ]
     },
     "execution_count": 37,
     "metadata": {},
     "output_type": "execute_result"
    }
   ],
   "source": [
    "x.startswith('the quick')"
   ]
  },
  {
   "cell_type": "code",
   "execution_count": 38,
   "id": "e13b6834",
   "metadata": {},
   "outputs": [
    {
     "data": {
      "text/plain": [
       "True"
      ]
     },
     "execution_count": 38,
     "metadata": {},
     "output_type": "execute_result"
    }
   ],
   "source": [
    "x.startswith('the quick brown')"
   ]
  },
  {
   "cell_type": "code",
   "execution_count": 39,
   "id": "f830c3f9",
   "metadata": {},
   "outputs": [
    {
     "data": {
      "text/plain": [
       "True"
      ]
     },
     "execution_count": 39,
     "metadata": {},
     "output_type": "execute_result"
    }
   ],
   "source": [
    "x.endswith('dog')"
   ]
  },
  {
   "cell_type": "code",
   "execution_count": 40,
   "id": "6fc66051",
   "metadata": {},
   "outputs": [
    {
     "data": {
      "text/plain": [
       "False"
      ]
     },
     "execution_count": 40,
     "metadata": {},
     "output_type": "execute_result"
    }
   ],
   "source": [
    "x.endswith('lazy dog     ')"
   ]
  },
  {
   "cell_type": "code",
   "execution_count": 41,
   "id": "ce88986d",
   "metadata": {},
   "outputs": [
    {
     "data": {
      "text/plain": [
       "True"
      ]
     },
     "execution_count": 41,
     "metadata": {},
     "output_type": "execute_result"
    }
   ],
   "source": [
    "x.endswith('the lazy dog')"
   ]
  },
  {
   "cell_type": "code",
   "execution_count": null,
   "id": "a265a2ce",
   "metadata": {},
   "outputs": [],
   "source": []
  }
 ],
 "metadata": {
  "kernelspec": {
   "display_name": "Python 3",
   "language": "python",
   "name": "python3"
  },
  "language_info": {
   "codemirror_mode": {
    "name": "ipython",
    "version": 3
   },
   "file_extension": ".py",
   "mimetype": "text/x-python",
   "name": "python",
   "nbconvert_exporter": "python",
   "pygments_lexer": "ipython3",
   "version": "3.6.13"
  }
 },
 "nbformat": 4,
 "nbformat_minor": 5
}
