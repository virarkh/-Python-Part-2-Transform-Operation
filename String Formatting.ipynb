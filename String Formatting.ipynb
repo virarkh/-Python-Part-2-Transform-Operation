{
 "cells": [
  {
   "cell_type": "markdown",
   "id": "fab07008",
   "metadata": {},
   "source": [
    "## zfill()\n",
    "The zfill() method returns a copy of the string with '0' characters padded to the left.\n",
    "\n",
    "The syntax of zfill() in Python is:\n",
    "\n",
    "str.zfill(width)\n",
    "\n",
    "zfill() Parameter\n",
    "zfill() takes a single character width.\n",
    "\n",
    "The width specifies the length of the returned string from zfill() with 0 digits filled to the left.\n",
    "\n",
    "zfill() returns a copy of the string with 0 filled to the left. The length of the returned string depends on the width provided.\n",
    "\n",
    "* Suppose, the initial length of the string is 10. And, the width is specified 15. In this case, zfill() returns a copy of the string with five '0' digits filled to the left.\n",
    "* Suppose, the initial length of the string is 10. And, the width is specified 8. In this case, zfill() doesn't fill '0' digits to the left and returns a copy of the original string. The length of the returned string in this case will be 10.\n",
    "* If a string starts with the sign prefix ('+', '-'), 0 digits are filled after the first sign prefix character.\n",
    "\n",
    "example:"
   ]
  },
  {
   "cell_type": "code",
   "execution_count": 3,
   "id": "29f558df",
   "metadata": {},
   "outputs": [
    {
     "data": {
      "text/plain": [
       "'007'"
      ]
     },
     "execution_count": 3,
     "metadata": {},
     "output_type": "execute_result"
    }
   ],
   "source": [
    "a = 7\n",
    "str(a).zfill(3)"
   ]
  },
  {
   "cell_type": "code",
   "execution_count": 4,
   "id": "ef05aa1f",
   "metadata": {},
   "outputs": [
    {
     "data": {
      "text/plain": [
       "'00200'"
      ]
     },
     "execution_count": 4,
     "metadata": {},
     "output_type": "execute_result"
    }
   ],
   "source": [
    "b = '200'\n",
    "b.zfill(5)"
   ]
  },
  {
   "cell_type": "code",
   "execution_count": 5,
   "id": "70056f0c",
   "metadata": {},
   "outputs": [
    {
     "data": {
      "text/plain": [
       "'-0.25'"
      ]
     },
     "execution_count": 5,
     "metadata": {},
     "output_type": "execute_result"
    }
   ],
   "source": [
    "c = -0.25\n",
    "str(c).zfill(5)"
   ]
  },
  {
   "cell_type": "code",
   "execution_count": 6,
   "id": "bda77be0",
   "metadata": {},
   "outputs": [
    {
     "data": {
      "text/plain": [
       "'-000.25'"
      ]
     },
     "execution_count": 6,
     "metadata": {},
     "output_type": "execute_result"
    }
   ],
   "source": [
    "str(c).zfill(7)"
   ]
  },
  {
   "cell_type": "markdown",
   "id": "4871a64a",
   "metadata": {},
   "source": [
    "## rjust()\n",
    "The string rjust() method returns a right-justified string of a given minimum width.\n",
    "\n",
    "The syntax of rjust() method is:\n",
    "\n",
    "string.rjust(width[, fillchar])\n",
    "Here, fillchar is an optional parameter.\n",
    "\n",
    "String rjust() Parameters\n",
    "The rjust() method takes two parameters:\n",
    "\n",
    "* width - width of the given string. If width is less than or equal to the length of the string, original string is returned.\n",
    "* fillchar (Optional) - character to fill the remaining space of the width\n",
    "\n",
    "Return value from String rjust()\n",
    "The rjust() method returns the right-justified string within the given minimum width.\n",
    "If fillchar is defined, it fills the remaining space with the defined character.\n",
    "\n",
    "example:"
   ]
  },
  {
   "cell_type": "code",
   "execution_count": 8,
   "id": "8f2ab264",
   "metadata": {},
   "outputs": [
    {
     "data": {
      "text/plain": [
       "'  Data'"
      ]
     },
     "execution_count": 8,
     "metadata": {},
     "output_type": "execute_result"
    }
   ],
   "source": [
    "\"Data\".rjust(6)"
   ]
  },
  {
   "cell_type": "code",
   "execution_count": 11,
   "id": "c63694c2",
   "metadata": {},
   "outputs": [
    {
     "name": "stdout",
     "output_type": "stream",
     "text": [
      "**cat\n"
     ]
    }
   ],
   "source": [
    "# example string\n",
    "string = 'cat'\n",
    "width = 5\n",
    "fillchar = '*'\n",
    "\n",
    "# print right justified string\n",
    "print(string.rjust(width, fillchar))"
   ]
  },
  {
   "cell_type": "markdown",
   "id": "29a43506",
   "metadata": {},
   "source": [
    "## ljust()\n",
    "The string ljust() method returns a left-justified string of a given minimum width.\n",
    "\n",
    "The syntax of ljust() method is:\n",
    "\n",
    "string.ljust(width[, fillchar])\n",
    "Here, fillchar is an optional parameter.\n",
    "\n",
    "String ljust() Parameters\n",
    "ljust() method takes two parameters:\n",
    "\n",
    "* width - width of the given string. If width is less than or equal to the length of the string, the original string is returned.\n",
    "* fillchar (Optional) - character to fill the remaining space of the width\n",
    "\n",
    "Return value from String ljust()\n",
    "The ljust() method returns the left-justified string within the given minimum width.\n",
    "\n",
    "If fillchar is defined, it also fills the remaining space with the defined character."
   ]
  },
  {
   "cell_type": "code",
   "execution_count": 9,
   "id": "b0a46259",
   "metadata": {},
   "outputs": [
    {
     "data": {
      "text/plain": [
       "'Data  '"
      ]
     },
     "execution_count": 9,
     "metadata": {},
     "output_type": "execute_result"
    }
   ],
   "source": [
    "\"Data\".ljust(6)"
   ]
  },
  {
   "cell_type": "code",
   "execution_count": 12,
   "id": "832bd800",
   "metadata": {},
   "outputs": [
    {
     "name": "stdout",
     "output_type": "stream",
     "text": [
      "*****dog\n"
     ]
    }
   ],
   "source": [
    "# example string\n",
    "string = 'dog'\n",
    "width = 8\n",
    "fillchar = '*'\n",
    "\n",
    "# print right justified string\n",
    "print(string.rjust(width, fillchar))"
   ]
  },
  {
   "cell_type": "markdown",
   "id": "518e7bb6",
   "metadata": {},
   "source": [
    "## center()\n",
    "The center() method returns a new centered string after padding it with the specified character.\n",
    "center() Syntax\n",
    "The syntax of the center() method is:\n",
    "\n",
    "str.center(width, [fillchar])\n",
    "Here, str is a string.\n",
    "\n",
    "center() Parameters\n",
    "The center() method takes two parameters:\n",
    "\n",
    "* width - length of the string with padded characters\n",
    "* fillchar (optional) - padding character\n",
    "\n",
    "center() Return Value\n",
    "The center() method returns:\n",
    "a string padded with specified fillchar\n",
    "\n",
    "example:"
   ]
  },
  {
   "cell_type": "code",
   "execution_count": 13,
   "id": "d1166fc1",
   "metadata": {},
   "outputs": [
    {
     "data": {
      "text/plain": [
       "'--Data--'"
      ]
     },
     "execution_count": 13,
     "metadata": {},
     "output_type": "execute_result"
    }
   ],
   "source": [
    "\"Data\".center(8,'-')"
   ]
  },
  {
   "cell_type": "markdown",
   "id": "467eb89a",
   "metadata": {},
   "source": [
    "## String Literals\n",
    "A string literal is where you specify the contents of a string in a program.\n"
   ]
  },
  {
   "cell_type": "markdown",
   "id": "b297e093",
   "metadata": {},
   "source": [
    "If you need an actual single quote character inside a literal string delimited by single quotes, you can use the backslash character before the single quote, to tell Python not to terminate the string:\n",
    "\n",
    "example:"
   ]
  },
  {
   "cell_type": "code",
   "execution_count": 14,
   "id": "5f0f6fa3",
   "metadata": {},
   "outputs": [
    {
     "name": "stdout",
     "output_type": "stream",
     "text": [
      "Single quoted string containing ' is OK with backslash\n"
     ]
    }
   ],
   "source": [
    "print('Single quoted string containing \\' is OK with backslash')"
   ]
  },
  {
   "cell_type": "markdown",
   "id": "43feca43",
   "metadata": {},
   "source": [
    "If you do not want the backslash to have this special meaning, prefix your string literal with ‘r’, meaning “raw”:"
   ]
  },
  {
   "cell_type": "code",
   "execution_count": 15,
   "id": "b3340731",
   "metadata": {},
   "outputs": [
    {
     "name": "stdout",
     "output_type": "stream",
     "text": [
      "Prefixed by \"r\" the \\n no longer inserts a new line\n"
     ]
    }
   ],
   "source": [
    "print(r'Prefixed by \"r\" the \\n no longer inserts a new line')"
   ]
  },
  {
   "cell_type": "code",
   "execution_count": null,
   "id": "8df554f9",
   "metadata": {},
   "outputs": [],
   "source": []
  }
 ],
 "metadata": {
  "kernelspec": {
   "display_name": "Python 3",
   "language": "python",
   "name": "python3"
  },
  "language_info": {
   "codemirror_mode": {
    "name": "ipython",
    "version": 3
   },
   "file_extension": ".py",
   "mimetype": "text/x-python",
   "name": "python",
   "nbconvert_exporter": "python",
   "pygments_lexer": "ipython3",
   "version": "3.6.13"
  }
 },
 "nbformat": 4,
 "nbformat_minor": 5
}
