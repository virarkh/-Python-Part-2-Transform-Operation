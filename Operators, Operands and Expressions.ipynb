{
 "cells": [
  {
   "cell_type": "markdown",
   "id": "09c6b972",
   "metadata": {},
   "source": [
    "## Definition\n",
    "<hr>\n",
    "<b>Operators</b> are special symbols in Python that carry out arithmetic or logical computation. The <b>value</b> that the operator operates on is called the <b>operand</b>. And a <b>combination</b> of operators and operands that interpreted to produce some other value is called <b>expression</b>. \n",
    "<br><br>\n",
    "Python divides the operators in the following groups:\n",
    "<li>Arithmetic operators</li>\n",
    "<li>Comparison operators</li>\n",
    "<li>Logical operators</li>\n",
    "<li>Assigment operators</li>"
   ]
  },
  {
   "cell_type": "markdown",
   "id": "ab4a51e4",
   "metadata": {},
   "source": [
    "<br>"
   ]
  },
  {
   "cell_type": "markdown",
   "id": "6911f737",
   "metadata": {},
   "source": [
    "## Arithmetic Operators\n",
    "<hr>\n",
    "Arithmetic operators are used to perform mathematical operations like addition, subtraction, multiplication, etc. In python not only numbers can be added arithmetic operators but also alphabets, such as using addition and multiplication."
   ]
  },
  {
   "cell_type": "markdown",
   "id": "69124375",
   "metadata": {},
   "source": [
    "### Addition ( + )\n",
    "The function this operator is adds two or more operands."
   ]
  },
  {
   "cell_type": "code",
   "execution_count": null,
   "id": "52071938",
   "metadata": {},
   "outputs": [],
   "source": [
    "# additional in int\n",
    "x = 15\n",
    "y = 2\n",
    "z = 1\n",
    "\n",
    "print(\"15 + 2 + 1 = \", x + y + z)"
   ]
  },
  {
   "cell_type": "code",
   "execution_count": null,
   "id": "acf40952",
   "metadata": {},
   "outputs": [],
   "source": [
    "# additional in string\n",
    "\n",
    "a = \"Studi\"\n",
    "b = \"Independen\"\n",
    "c = \"Batch 3\"\n",
    "\n",
    "print(a + \" \" + b + \" \" + c)"
   ]
  },
  {
   "cell_type": "markdown",
   "id": "9484feb4",
   "metadata": {},
   "source": [
    "<i>In python, addition operator can used for add two or more operands that contain string value.</i>"
   ]
  },
  {
   "cell_type": "markdown",
   "id": "af1b2b3f",
   "metadata": {},
   "source": [
    "<br>"
   ]
  },
  {
   "cell_type": "markdown",
   "id": "1c0dce62",
   "metadata": {},
   "source": [
    "### Substraction ( - )\n",
    "The function this operator is substacts two or more operands."
   ]
  },
  {
   "cell_type": "code",
   "execution_count": null,
   "id": "139bf7b5",
   "metadata": {},
   "outputs": [],
   "source": [
    "# substraction in int\n",
    "x = 15\n",
    "y = 2\n",
    "z = 1\n",
    "\n",
    "print(\"15 - 2 - 1 = \", x - y - z)"
   ]
  },
  {
   "cell_type": "code",
   "execution_count": null,
   "id": "c53e328e",
   "metadata": {},
   "outputs": [],
   "source": [
    "# substraction in string\n",
    "\n",
    "a = \"Studi\"\n",
    "b = \"Independen\"\n",
    "c = \"Batch 3\"\n",
    "\n",
    "print(a - b - c)"
   ]
  },
  {
   "cell_type": "markdown",
   "id": "4398e48f",
   "metadata": {},
   "source": [
    "<i>In python, subtraction operator <b>cannot</b> used for subtracts two or more operands that contain string value.</i>"
   ]
  },
  {
   "cell_type": "markdown",
   "id": "eb96ce6b",
   "metadata": {},
   "source": [
    "<br>"
   ]
  },
  {
   "cell_type": "markdown",
   "id": "12f427f7",
   "metadata": {},
   "source": [
    "### Multiplication ( * )\n",
    "The function this operator is two multiplies two or more operands."
   ]
  },
  {
   "cell_type": "code",
   "execution_count": null,
   "id": "5648ffd9",
   "metadata": {},
   "outputs": [],
   "source": [
    "# multiplication in int\n",
    "x = 15\n",
    "y = 2\n",
    "z = 1\n",
    "\n",
    "print(\"15 x 2 x 1 = \", x * y * z)"
   ]
  },
  {
   "cell_type": "code",
   "execution_count": null,
   "id": "cf1a6fea",
   "metadata": {},
   "outputs": [],
   "source": [
    "# multiplication in string\n",
    "\n",
    "a = \"Studi\"\n",
    "b = \"Independen\"\n",
    "c = \"Batch 3\"\n",
    "\n",
    "print((a + \" \" + b + \" \" + c + \" | \") * 2)"
   ]
  },
  {
   "cell_type": "markdown",
   "id": "177661c3",
   "metadata": {},
   "source": [
    "<i>In python, the multiplication operator can be used to multiply two or more operands containing a string value by a number indicated that the operand will be multiplied by the specified number.</i>"
   ]
  },
  {
   "cell_type": "markdown",
   "id": "1a2c5e65",
   "metadata": {},
   "source": [
    "<br>"
   ]
  },
  {
   "cell_type": "markdown",
   "id": "fefdee20",
   "metadata": {},
   "source": [
    "### Division ( : )\n",
    "The function this operator is divide two or more operands."
   ]
  },
  {
   "cell_type": "code",
   "execution_count": null,
   "id": "b55c025f",
   "metadata": {},
   "outputs": [],
   "source": [
    "# division in int\n",
    "x = 15\n",
    "y = 2\n",
    "z = 1\n",
    "\n",
    "print(\"15 : 2 : 1 = \", x / y / z)"
   ]
  },
  {
   "cell_type": "code",
   "execution_count": null,
   "id": "bbff8c8a",
   "metadata": {},
   "outputs": [],
   "source": [
    "# division in string\n",
    "\n",
    "a = \"Studi\"\n",
    "b = \"Independen\"\n",
    "c = \"Batch 3\"\n",
    "\n",
    "print((a + \" \" + b + \" \" + c + \" | \") / 2)"
   ]
  },
  {
   "cell_type": "markdown",
   "id": "af7ef17e",
   "metadata": {},
   "source": [
    "<i>In python, division operator <b>cannot</b> used for divide two or more operands that contain string value.</i>"
   ]
  },
  {
   "cell_type": "markdown",
   "id": "ac7592a9",
   "metadata": {},
   "source": [
    "<br>"
   ]
  },
  {
   "cell_type": "markdown",
   "id": "73b7eeb4",
   "metadata": {},
   "source": [
    "### Square ( ** )\n",
    "The function this operator is raised the left operand to the power of right"
   ]
  },
  {
   "cell_type": "code",
   "execution_count": null,
   "id": "af2c4a5e",
   "metadata": {},
   "outputs": [],
   "source": [
    "x = 15\n",
    "y = 2\n",
    "z = 1\n",
    "\n",
    "print(\"15 ^ 2 ^ 1 = \", x ** y ** z)"
   ]
  },
  {
   "cell_type": "markdown",
   "id": "f5bbfb94",
   "metadata": {},
   "source": [
    "<br>"
   ]
  },
  {
   "cell_type": "markdown",
   "id": "0923d3a6",
   "metadata": {},
   "source": [
    "### Square Root ( ** 0.5 )"
   ]
  },
  {
   "cell_type": "code",
   "execution_count": null,
   "id": "5cf43459",
   "metadata": {},
   "outputs": [],
   "source": [
    "x = 10\n",
    "y = 4\n",
    "z = 5\n",
    "\n",
    "print(\"16 ** 0.5 = \", 16 ** 0.5)"
   ]
  },
  {
   "cell_type": "markdown",
   "id": "662f6af6",
   "metadata": {},
   "source": [
    "<br>"
   ]
  },
  {
   "cell_type": "markdown",
   "id": "3ae86dde",
   "metadata": {},
   "source": [
    "### Floor Division ( // )\n",
    "The function this operator is division that results into whole number adjusted to the left in the number line"
   ]
  },
  {
   "cell_type": "code",
   "execution_count": null,
   "id": "bff558b7",
   "metadata": {},
   "outputs": [],
   "source": [
    "x = 15\n",
    "y = 2\n",
    "z = 1\n",
    "\n",
    "print(\"15 // 2 // 1 = \", x // y // z)"
   ]
  },
  {
   "cell_type": "markdown",
   "id": "8b37ae03",
   "metadata": {},
   "source": [
    "<br>"
   ]
  },
  {
   "cell_type": "markdown",
   "id": "fa5bd5f4",
   "metadata": {},
   "source": [
    "### Modulus ( % )\n",
    "The function this operator is remainder of the division of left operand by the right"
   ]
  },
  {
   "cell_type": "code",
   "execution_count": null,
   "id": "e05d8d8a",
   "metadata": {},
   "outputs": [],
   "source": [
    "x = 15\n",
    "y = 2\n",
    "z = 1\n",
    "\n",
    "print(\"15 % 2 % 1 = \", x % y % z)"
   ]
  },
  {
   "cell_type": "markdown",
   "id": "6eabeb66",
   "metadata": {},
   "source": [
    "<br>"
   ]
  },
  {
   "cell_type": "markdown",
   "id": "880cebf6",
   "metadata": {},
   "source": [
    "## Comparison Operators\n",
    "<hr>\n",
    "Comparison operators are used to compare operands. It returns either <b>True</b> or <b>False</b> according to the condition."
   ]
  },
  {
   "cell_type": "markdown",
   "id": "45ba9156",
   "metadata": {},
   "source": [
    "### Equal ( == )\n",
    "If the values of two operands are equal, then the condition becomes true"
   ]
  },
  {
   "cell_type": "code",
   "execution_count": null,
   "id": "8194efcf",
   "metadata": {},
   "outputs": [],
   "source": [
    "x = 15\n",
    "y = 2\n",
    "z = 1"
   ]
  },
  {
   "cell_type": "code",
   "execution_count": null,
   "id": "fc7c6f3a",
   "metadata": {},
   "outputs": [],
   "source": [
    "print(\"Whether 15 equal 2 ?\", x == y)"
   ]
  },
  {
   "cell_type": "code",
   "execution_count": null,
   "id": "f54a28fa",
   "metadata": {},
   "outputs": [],
   "source": [
    "print(\"Whether 1 equal 2 ?\", z == y)"
   ]
  },
  {
   "cell_type": "code",
   "execution_count": null,
   "id": "f6b0d8ed",
   "metadata": {},
   "outputs": [],
   "source": [
    "a = \"Python\"\n",
    "b = \"python\"\n",
    "\n",
    "print(\"Whether \\'Python\\' equal \\'python\\' ?\", a == b)"
   ]
  },
  {
   "cell_type": "code",
   "execution_count": null,
   "id": "0d87a3f4",
   "metadata": {},
   "outputs": [],
   "source": [
    "a = \"Python\"\n",
    "b = \"Python\"\n",
    "\n",
    "print(\"Whether \\'Python\\' equal \\'Python\\' ?\", a == b)"
   ]
  },
  {
   "cell_type": "markdown",
   "id": "2c3be44f",
   "metadata": {},
   "source": [
    "<i>Remember that python is <b>case sensitive</b></i>"
   ]
  },
  {
   "cell_type": "markdown",
   "id": "8fa7bd30",
   "metadata": {},
   "source": [
    "<br>"
   ]
  },
  {
   "cell_type": "markdown",
   "id": "230495d6",
   "metadata": {},
   "source": [
    "### Not Equal ( != )\n",
    "If values of two operands are not equal, then condition becomes true."
   ]
  },
  {
   "cell_type": "code",
   "execution_count": null,
   "id": "3958e769",
   "metadata": {},
   "outputs": [],
   "source": [
    "x = 15\n",
    "y = 2\n",
    "z = 1"
   ]
  },
  {
   "cell_type": "code",
   "execution_count": null,
   "id": "9f79830e",
   "metadata": {},
   "outputs": [],
   "source": [
    "print(\"Whether 15 not equal 2 ?\", x != y)"
   ]
  },
  {
   "cell_type": "code",
   "execution_count": null,
   "id": "e219d6ed",
   "metadata": {},
   "outputs": [],
   "source": [
    "print(\"Whether 1 not equal 2 ?\", z != y)"
   ]
  },
  {
   "cell_type": "code",
   "execution_count": null,
   "id": "257e85e7",
   "metadata": {},
   "outputs": [],
   "source": [
    "a = \"Python\"\n",
    "b = \"python\"\n",
    "\n",
    "print(\"Whether \\'Python\\' not equal \\'python\\' ?\", a != b)"
   ]
  },
  {
   "cell_type": "code",
   "execution_count": null,
   "id": "20a34a52",
   "metadata": {},
   "outputs": [],
   "source": [
    "a = \"Python\"\n",
    "b = \"Python\"\n",
    "\n",
    "print(\"Whether \\'Python\\' not equal \\'Python\\' ?\", a != b)"
   ]
  },
  {
   "cell_type": "markdown",
   "id": "cd5c94f5",
   "metadata": {},
   "source": [
    "<br>"
   ]
  },
  {
   "cell_type": "markdown",
   "id": "d6534248",
   "metadata": {},
   "source": [
    "### Greater Than ( > )\n",
    "If the value of left operand is greater than the value of right operand, then condition becomes true."
   ]
  },
  {
   "cell_type": "code",
   "execution_count": null,
   "id": "eebf0045",
   "metadata": {},
   "outputs": [],
   "source": [
    "x = 15\n",
    "y = 2\n",
    "z = 1"
   ]
  },
  {
   "cell_type": "code",
   "execution_count": null,
   "id": "79fdd46d",
   "metadata": {
    "scrolled": true
   },
   "outputs": [],
   "source": [
    "print(\"Whether 15 greater than 2 ?\", x > y)"
   ]
  },
  {
   "cell_type": "code",
   "execution_count": null,
   "id": "6162aad5",
   "metadata": {
    "scrolled": true
   },
   "outputs": [],
   "source": [
    "print(\"Whether 1 greater than 2 ?\", z > y)"
   ]
  },
  {
   "cell_type": "markdown",
   "id": "1e880c73",
   "metadata": {},
   "source": [
    "<br>"
   ]
  },
  {
   "cell_type": "markdown",
   "id": "7f76d17c",
   "metadata": {},
   "source": [
    "### Less Than ( < )\n",
    "If the value of left operand is less than the value of right operand, then condition becomes true."
   ]
  },
  {
   "cell_type": "code",
   "execution_count": null,
   "id": "32e982a9",
   "metadata": {},
   "outputs": [],
   "source": [
    "x = 15\n",
    "y = 2\n",
    "z = 1"
   ]
  },
  {
   "cell_type": "code",
   "execution_count": null,
   "id": "43647f6a",
   "metadata": {
    "scrolled": true
   },
   "outputs": [],
   "source": [
    "print(\"Whether 15 less than 2 ?\", x < y)"
   ]
  },
  {
   "cell_type": "code",
   "execution_count": null,
   "id": "65af6a47",
   "metadata": {
    "scrolled": true
   },
   "outputs": [],
   "source": [
    "print(\"Whether 1 less than 2 ?\", z < y)"
   ]
  },
  {
   "cell_type": "markdown",
   "id": "521ec8bb",
   "metadata": {},
   "source": [
    "<br>"
   ]
  },
  {
   "cell_type": "markdown",
   "id": "2806a38e",
   "metadata": {},
   "source": [
    "### Greater Than or Equal to ( >= )\n",
    "If the value of left operand is greater than or equal to the value of right operand, then condition becomes true."
   ]
  },
  {
   "cell_type": "code",
   "execution_count": null,
   "id": "c6c2b8b4",
   "metadata": {},
   "outputs": [],
   "source": [
    "x = 15\n",
    "y = 2\n",
    "z = 1"
   ]
  },
  {
   "cell_type": "code",
   "execution_count": null,
   "id": "695f34c5",
   "metadata": {
    "scrolled": true
   },
   "outputs": [],
   "source": [
    "print(\"Whether 15 >= 2 ?\", x >= y)"
   ]
  },
  {
   "cell_type": "code",
   "execution_count": null,
   "id": "66766bf4",
   "metadata": {
    "scrolled": true
   },
   "outputs": [],
   "source": [
    "print(\"Whether 1 >= 2 ?\", z >= y)"
   ]
  },
  {
   "cell_type": "markdown",
   "id": "a243f586",
   "metadata": {},
   "source": [
    "<br>"
   ]
  },
  {
   "cell_type": "markdown",
   "id": "7ff07b4d",
   "metadata": {},
   "source": [
    "### Less Than or Equal to ( <= )\n",
    "If the value of left operand is less than or equal to the value of right operand, then condition becomes true."
   ]
  },
  {
   "cell_type": "code",
   "execution_count": null,
   "id": "c8c1a001",
   "metadata": {},
   "outputs": [],
   "source": [
    "x = 15\n",
    "y = 2\n",
    "z = 1"
   ]
  },
  {
   "cell_type": "code",
   "execution_count": null,
   "id": "7a4031ec",
   "metadata": {
    "scrolled": true
   },
   "outputs": [],
   "source": [
    "print(\"Whether 15 <= 2 ?\", x <= y)"
   ]
  },
  {
   "cell_type": "code",
   "execution_count": null,
   "id": "c248387d",
   "metadata": {
    "scrolled": true
   },
   "outputs": [],
   "source": [
    "print(\"Whether 1 <= 2 ?\", z <= y)"
   ]
  },
  {
   "cell_type": "markdown",
   "id": "6c22649a",
   "metadata": {},
   "source": [
    "<br>"
   ]
  },
  {
   "cell_type": "markdown",
   "id": "2044c239",
   "metadata": {},
   "source": [
    "## Logical Operators\n",
    "<hr>\n",
    "Logical operators are used to combine conditional statements:"
   ]
  },
  {
   "cell_type": "markdown",
   "id": "1abdfa59",
   "metadata": {},
   "source": [
    "### AND\n",
    "Returns True if both statements are true"
   ]
  },
  {
   "cell_type": "code",
   "execution_count": null,
   "id": "128dcaac",
   "metadata": {},
   "outputs": [],
   "source": [
    "True and True"
   ]
  },
  {
   "cell_type": "code",
   "execution_count": null,
   "id": "882f5949",
   "metadata": {},
   "outputs": [],
   "source": [
    "True and False"
   ]
  },
  {
   "cell_type": "code",
   "execution_count": null,
   "id": "a37f84df",
   "metadata": {},
   "outputs": [],
   "source": [
    "'python' != 'Python' and 5 < 10"
   ]
  },
  {
   "cell_type": "code",
   "execution_count": null,
   "id": "8d1233b0",
   "metadata": {},
   "outputs": [],
   "source": [
    "'python' != 'Python' and 5 > 10"
   ]
  },
  {
   "cell_type": "markdown",
   "id": "f5767e82",
   "metadata": {},
   "source": [
    "<br>"
   ]
  },
  {
   "cell_type": "markdown",
   "id": "762292ec",
   "metadata": {},
   "source": [
    "### OR\n",
    "Returns True if one of the statements is true"
   ]
  },
  {
   "cell_type": "code",
   "execution_count": null,
   "id": "c2c09aa8",
   "metadata": {
    "scrolled": true
   },
   "outputs": [],
   "source": [
    "True or True"
   ]
  },
  {
   "cell_type": "code",
   "execution_count": null,
   "id": "b0f039d4",
   "metadata": {
    "scrolled": true
   },
   "outputs": [],
   "source": [
    "True or False"
   ]
  },
  {
   "cell_type": "code",
   "execution_count": null,
   "id": "3053998b",
   "metadata": {},
   "outputs": [],
   "source": [
    "'python' != 'Python' or 5 < 10"
   ]
  },
  {
   "cell_type": "code",
   "execution_count": null,
   "id": "5ec7c191",
   "metadata": {
    "scrolled": true
   },
   "outputs": [],
   "source": [
    "'python' != 'Python' or 5 > 10"
   ]
  },
  {
   "cell_type": "markdown",
   "id": "5c20dcd1",
   "metadata": {},
   "source": [
    "<br>"
   ]
  },
  {
   "cell_type": "markdown",
   "id": "ed0dded8",
   "metadata": {},
   "source": [
    "### NOT\n",
    "Reverse the result, returns False if the result is true"
   ]
  },
  {
   "cell_type": "code",
   "execution_count": null,
   "id": "6194ee90",
   "metadata": {
    "scrolled": true
   },
   "outputs": [],
   "source": [
    "not True"
   ]
  },
  {
   "cell_type": "code",
   "execution_count": null,
   "id": "71fa4c50",
   "metadata": {
    "scrolled": true
   },
   "outputs": [],
   "source": [
    "not False"
   ]
  },
  {
   "cell_type": "code",
   "execution_count": null,
   "id": "4f253aed",
   "metadata": {},
   "outputs": [],
   "source": [
    "print(\"\\'python\\' != \\'Python\\' is True ?\", not False)"
   ]
  },
  {
   "cell_type": "code",
   "execution_count": null,
   "id": "9ae65ffb",
   "metadata": {
    "scrolled": true
   },
   "outputs": [],
   "source": [
    "print(\"5 > 10 is True ?\", not True)"
   ]
  },
  {
   "cell_type": "markdown",
   "id": "c8fb95c7",
   "metadata": {},
   "source": [
    "<br>"
   ]
  },
  {
   "cell_type": "markdown",
   "id": "464dfc69",
   "metadata": {},
   "source": [
    "## Assignment Operator\n",
    "<hr>\n",
    "Assignment operators are used in Python to assign values to variables."
   ]
  },
  {
   "cell_type": "markdown",
   "id": "1f7e8b16",
   "metadata": {},
   "source": [
    "### Operator ( += )"
   ]
  },
  {
   "cell_type": "code",
   "execution_count": null,
   "id": "5b861d73",
   "metadata": {},
   "outputs": [],
   "source": [
    "x = 15\n",
    "x = x + 2\n",
    "\n",
    "print(\"15 + 2 =\", x)"
   ]
  },
  {
   "cell_type": "code",
   "execution_count": null,
   "id": "0c894129",
   "metadata": {},
   "outputs": [],
   "source": [
    "x = 15\n",
    "x += 2\n",
    "\n",
    "print(\"15 + 2 =\", x)"
   ]
  },
  {
   "cell_type": "markdown",
   "id": "2d11f271",
   "metadata": {},
   "source": [
    "### Operator ( -= )"
   ]
  },
  {
   "cell_type": "code",
   "execution_count": null,
   "id": "67af6154",
   "metadata": {},
   "outputs": [],
   "source": [
    "x = 15\n",
    "x = x - 2\n",
    "\n",
    "print(\"15 - 2 =\", x)"
   ]
  },
  {
   "cell_type": "code",
   "execution_count": null,
   "id": "2e257b31",
   "metadata": {},
   "outputs": [],
   "source": [
    "x = 15\n",
    "x -= 2\n",
    "\n",
    "print(\"15 - 2 =\", x)"
   ]
  },
  {
   "cell_type": "markdown",
   "id": "a4083bac",
   "metadata": {},
   "source": [
    "### Operator ( *= )"
   ]
  },
  {
   "cell_type": "code",
   "execution_count": null,
   "id": "b9cf5f34",
   "metadata": {},
   "outputs": [],
   "source": [
    "x = 15\n",
    "x = x * 2\n",
    "\n",
    "print(\"15 * 2 =\", x)"
   ]
  },
  {
   "cell_type": "code",
   "execution_count": null,
   "id": "2b5e8657",
   "metadata": {},
   "outputs": [],
   "source": [
    "x = 15\n",
    "x *= 2\n",
    "\n",
    "print(\"15 * 2 =\", x)"
   ]
  },
  {
   "cell_type": "markdown",
   "id": "f1f733c3",
   "metadata": {},
   "source": [
    "### Operator ( /= )"
   ]
  },
  {
   "cell_type": "code",
   "execution_count": null,
   "id": "090ab865",
   "metadata": {},
   "outputs": [],
   "source": [
    "x = 15\n",
    "x = x / 2\n",
    "\n",
    "print(\"15 : 2 =\", x)"
   ]
  },
  {
   "cell_type": "code",
   "execution_count": null,
   "id": "d4d269f0",
   "metadata": {},
   "outputs": [],
   "source": [
    "x = 15\n",
    "x /= 2\n",
    "\n",
    "print(\"15 : 2 =\", x)"
   ]
  },
  {
   "cell_type": "markdown",
   "id": "ed105bfa",
   "metadata": {},
   "source": [
    "### Operator ( %= )"
   ]
  },
  {
   "cell_type": "code",
   "execution_count": null,
   "id": "36b3ea05",
   "metadata": {},
   "outputs": [],
   "source": [
    "x = 15\n",
    "x = x % 2\n",
    "\n",
    "print(\"15 % 2 =\", x)"
   ]
  },
  {
   "cell_type": "code",
   "execution_count": null,
   "id": "21872f0e",
   "metadata": {},
   "outputs": [],
   "source": [
    "x = 15\n",
    "x %= 2\n",
    "\n",
    "print(\"15 % 2 =\", x)"
   ]
  },
  {
   "cell_type": "markdown",
   "id": "681bbeae",
   "metadata": {},
   "source": [
    "### Operator ( //= )"
   ]
  },
  {
   "cell_type": "code",
   "execution_count": null,
   "id": "c884e5ae",
   "metadata": {},
   "outputs": [],
   "source": [
    "x = 15\n",
    "x = x // 2\n",
    "\n",
    "print(\"15 // 2 =\", x)"
   ]
  },
  {
   "cell_type": "code",
   "execution_count": null,
   "id": "eeb708ca",
   "metadata": {},
   "outputs": [],
   "source": [
    "x = 15\n",
    "x //= 2\n",
    "\n",
    "print(\"15 // 2 =\", x)"
   ]
  },
  {
   "cell_type": "markdown",
   "id": "1a2c3a76",
   "metadata": {},
   "source": [
    "### Operator ( **= )"
   ]
  },
  {
   "cell_type": "code",
   "execution_count": null,
   "id": "14dd8d9b",
   "metadata": {},
   "outputs": [],
   "source": [
    "x = 15\n",
    "x = x ** 2\n",
    "\n",
    "print(\"15 ^ 2 =\", x)"
   ]
  },
  {
   "cell_type": "code",
   "execution_count": null,
   "id": "d7ceb354",
   "metadata": {},
   "outputs": [],
   "source": [
    "x = 15\n",
    "x **= 2\n",
    "\n",
    "print(\"15 ^ 2 =\", x)"
   ]
  },
  {
   "cell_type": "markdown",
   "id": "2ae6b820",
   "metadata": {},
   "source": [
    "<br>"
   ]
  },
  {
   "cell_type": "markdown",
   "id": "d933048e",
   "metadata": {},
   "source": [
    "## Order of Operations in Arithmetic\n",
    "<hr>\n",
    "<li>P – Parentheses</li>\n",
    "<li>E – Exponentiation</li>\n",
    "<li>M – Multiplication (Multiplication and division have the same precedence) </li>\n",
    "<li>D – Division</li>\n",
    "<li>A – Addition (Addition and subtraction have the same precedence)</li>\n",
    "<li>S – Subtraction</li>"
   ]
  },
  {
   "cell_type": "code",
   "execution_count": null,
   "id": "0617923e",
   "metadata": {},
   "outputs": [],
   "source": [
    "x = 1 + (1 * 0)\n",
    "\n",
    "print(\"1 + (1 * 0) =\", x)"
   ]
  },
  {
   "cell_type": "code",
   "execution_count": null,
   "id": "afbafee6",
   "metadata": {},
   "outputs": [],
   "source": [
    "x = 1 + 1 * 0\n",
    "\n",
    "print(\"1 + 1 * 0 =\", x)"
   ]
  },
  {
   "cell_type": "code",
   "execution_count": null,
   "id": "756dd038",
   "metadata": {},
   "outputs": [],
   "source": [
    "y = -15 + ((-12) / 3) \n",
    "\n",
    "print(\"-15 + ((-12) :3) =\", y)"
   ]
  },
  {
   "cell_type": "code",
   "execution_count": 1,
   "id": "908fe12a",
   "metadata": {},
   "outputs": [
    {
     "name": "stdout",
     "output_type": "stream",
     "text": [
      "-15 + -12 :3 = -19.0\n"
     ]
    }
   ],
   "source": [
    "y = -15 + -12 / 3\n",
    "\n",
    "print(\"-15 + -12 :3 =\", y)"
   ]
  },
  {
   "cell_type": "code",
   "execution_count": 6,
   "id": "0d5e8888",
   "metadata": {},
   "outputs": [
    {
     "name": "stdout",
     "output_type": "stream",
     "text": [
      "325 – (125 : 5) + (100 x 3) = 600.0\n"
     ]
    }
   ],
   "source": [
    "z = 325 - (125 / 5) + (100 * 3)\n",
    "\n",
    "print(\"325 – (125 : 5) + (100 x 3) =\", z)"
   ]
  },
  {
   "cell_type": "code",
   "execution_count": 7,
   "id": "9b5000a1",
   "metadata": {},
   "outputs": [
    {
     "name": "stdout",
     "output_type": "stream",
     "text": [
      "325 – 125 : 5 + 100 x 3 = 600.0\n"
     ]
    }
   ],
   "source": [
    "z = 325 - 125 / 5 + 100 * 3\n",
    "\n",
    "print(\"325 – 125 : 5 + 100 x 3 =\", z)"
   ]
  },
  {
   "cell_type": "code",
   "execution_count": null,
   "id": "a86ed72a",
   "metadata": {},
   "outputs": [],
   "source": []
  }
 ],
 "metadata": {
  "kernelspec": {
   "display_name": "Python 3 (ipykernel)",
   "language": "python",
   "name": "python3"
  },
  "language_info": {
   "codemirror_mode": {
    "name": "ipython",
    "version": 3
   },
   "file_extension": ".py",
   "mimetype": "text/x-python",
   "name": "python",
   "nbconvert_exporter": "python",
   "pygments_lexer": "ipython3",
   "version": "3.9.12"
  }
 },
 "nbformat": 4,
 "nbformat_minor": 5
}
