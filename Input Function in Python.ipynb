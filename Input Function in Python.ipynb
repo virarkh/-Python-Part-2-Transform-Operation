{
 "cells": [
  {
   "cell_type": "markdown",
   "id": "a59b14b1",
   "metadata": {},
   "source": [
    "## Variable\n",
    "\n",
    "Think of a variable as a name attached to a particular object. In Python, variables need not be declared or defined in advance, as is the case in many other programming languages. To create a variable, you just assign it a value and then start using it. Assignment is done with a single equals sign (=)"
   ]
  },
  {
   "cell_type": "code",
   "execution_count": 1,
   "id": "3e467805",
   "metadata": {},
   "outputs": [],
   "source": [
    "a= 3"
   ]
  },
  {
   "cell_type": "code",
   "execution_count": 2,
   "id": "022bf0e0",
   "metadata": {},
   "outputs": [
    {
     "data": {
      "text/plain": [
       "int"
      ]
     },
     "execution_count": 2,
     "metadata": {},
     "output_type": "execute_result"
    }
   ],
   "source": [
    "type(a)"
   ]
  },
  {
   "cell_type": "code",
   "execution_count": 3,
   "id": "57afddce",
   "metadata": {},
   "outputs": [
    {
     "name": "stdout",
     "output_type": "stream",
     "text": [
      "Variable a value is  3\n"
     ]
    }
   ],
   "source": [
    "print('Variable a value is ', a)"
   ]
  },
  {
   "cell_type": "code",
   "execution_count": 4,
   "id": "0cdc696b",
   "metadata": {},
   "outputs": [
    {
     "name": "stdout",
     "output_type": "stream",
     "text": [
      "My name is Na Hee Do\n"
     ]
    }
   ],
   "source": [
    "print('My name is {}'.format('Na Hee Do'))"
   ]
  },
  {
   "cell_type": "markdown",
   "id": "c9407325",
   "metadata": {},
   "source": [
    "## Python Argument Specifiers\n",
    "The \"%\" operator is used to format a set of variables enclosed in a \"tuple\" (a fixed size list), together with a format string, which contains normal text together with \"argument specifiers\", special symbols like \"%s\" and \"%d\"."
   ]
  },
  {
   "cell_type": "markdown",
   "id": "2fe7b12e",
   "metadata": {},
   "source": [
    "Here are some basic argument specifiers you should know:\n",
    "\n",
    "* %s - String (or any object with a string representation, like numbers)\n",
    "\n",
    "* %d - Integers\n",
    "\n",
    "* %f - Floating point numbers\n",
    "\n",
    "* %.<number of digits>f - Floating point numbers with a fixed amount of digits to the right of the dot.\n",
    "\n",
    "* %x/%X - Integers in hex representation (lowercase/uppercase)"
   ]
  },
  {
   "cell_type": "code",
   "execution_count": 5,
   "id": "41d0747d",
   "metadata": {},
   "outputs": [],
   "source": [
    "name = \"Back Yi Jin\""
   ]
  },
  {
   "cell_type": "code",
   "execution_count": 6,
   "id": "11381e52",
   "metadata": {},
   "outputs": [],
   "source": [
    "age = 25"
   ]
  },
  {
   "cell_type": "code",
   "execution_count": 8,
   "id": "9615d595",
   "metadata": {},
   "outputs": [
    {
     "name": "stdout",
     "output_type": "stream",
     "text": [
      "My name is Back Yi Jin, I am 25 y.o.\n"
     ]
    }
   ],
   "source": [
    "print(\"My name is %s, I am %d y.o.\" %(name, age))"
   ]
  },
  {
   "cell_type": "code",
   "execution_count": 9,
   "id": "f7fb191b",
   "metadata": {},
   "outputs": [],
   "source": [
    "name = 'Johnathan'\n",
    "age = 21\n",
    "height = 1.68"
   ]
  },
  {
   "cell_type": "code",
   "execution_count": 15,
   "id": "f9d21284",
   "metadata": {},
   "outputs": [
    {
     "name": "stdout",
     "output_type": "stream",
     "text": [
      "My name is Johnathan, I am 21 y.o. and my height is 1.680000\n"
     ]
    }
   ],
   "source": [
    "print('My name is %s, I am %d y.o. and my height is %f' %(name,age,height))"
   ]
  },
  {
   "cell_type": "markdown",
   "id": "9916c0f2",
   "metadata": {},
   "source": [
    "Other than using argument specifier we can use .format() function to inset a variable into a sentence.\n",
    "example:"
   ]
  },
  {
   "cell_type": "code",
   "execution_count": 17,
   "id": "d7e5fa1a",
   "metadata": {},
   "outputs": [
    {
     "name": "stdout",
     "output_type": "stream",
     "text": [
      "My name is Johnathan, I am 21 y.o. , and my height is 1.68\n"
     ]
    }
   ],
   "source": [
    "print('My name is {}, I am {} y.o. , and my height is {}'.format(name,age,height))"
   ]
  },
  {
   "cell_type": "markdown",
   "id": "70f393b2",
   "metadata": {},
   "source": [
    "## input()\n",
    "\n",
    "The input() function takes input from the user and returns it. The input() function reads a line from the input (usually from the user), converts the line into a string by removing the trailing newline, and returns it.\n",
    "\n",
    "example:"
   ]
  },
  {
   "cell_type": "code",
   "execution_count": 18,
   "id": "9f4797cb",
   "metadata": {},
   "outputs": [
    {
     "name": "stdout",
     "output_type": "stream",
     "text": [
      "Data Science\n"
     ]
    },
    {
     "data": {
      "text/plain": [
       "'Data Science'"
      ]
     },
     "execution_count": 18,
     "metadata": {},
     "output_type": "execute_result"
    }
   ],
   "source": [
    "input()"
   ]
  },
  {
   "cell_type": "markdown",
   "id": "747a6f6f",
   "metadata": {},
   "source": [
    "### input() Parameters\n",
    "The input() function takes a single optional argument:\n",
    "\n",
    "prompt (Optional) - a string that is written to standard output (usually screen) without trailing newline"
   ]
  },
  {
   "cell_type": "code",
   "execution_count": 27,
   "id": "e602c0f1",
   "metadata": {},
   "outputs": [
    {
     "name": "stdout",
     "output_type": "stream",
     "text": [
      "enter your name :Data Scientist\n"
     ]
    }
   ],
   "source": [
    "name = input('enter your name :')"
   ]
  },
  {
   "cell_type": "code",
   "execution_count": 28,
   "id": "60c207cf",
   "metadata": {},
   "outputs": [
    {
     "name": "stdout",
     "output_type": "stream",
     "text": [
      "Data Scientist\n"
     ]
    }
   ],
   "source": [
    "print(name)"
   ]
  },
  {
   "cell_type": "code",
   "execution_count": 21,
   "id": "d066e7a6",
   "metadata": {},
   "outputs": [
    {
     "name": "stdout",
     "output_type": "stream",
     "text": [
      "your age :23\n"
     ]
    }
   ],
   "source": [
    "age= int(input('your age :'))"
   ]
  },
  {
   "cell_type": "code",
   "execution_count": 22,
   "id": "783018f3",
   "metadata": {},
   "outputs": [
    {
     "name": "stdout",
     "output_type": "stream",
     "text": [
      "21\n"
     ]
    }
   ],
   "source": [
    "print(age)"
   ]
  },
  {
   "cell_type": "code",
   "execution_count": 24,
   "id": "5377ec27",
   "metadata": {},
   "outputs": [
    {
     "name": "stdout",
     "output_type": "stream",
     "text": [
      "enter your name:Johnathan\n",
      "enter your age:23\n",
      "enter your height:168\n"
     ]
    }
   ],
   "source": [
    "name = input('enter your name:')\n",
    "age = int(input('enter your age:'))\n",
    "height = float(input('enter your height:'))"
   ]
  },
  {
   "cell_type": "code",
   "execution_count": 25,
   "id": "57c9a600",
   "metadata": {},
   "outputs": [
    {
     "name": "stdout",
     "output_type": "stream",
     "text": [
      "My name is Johnathan, I am 23 y.o. , and my height is 168.0\n"
     ]
    }
   ],
   "source": [
    "print('My name is {}, I am {} y.o. , and my height is {}'.format(name,age,height))"
   ]
  },
  {
   "cell_type": "code",
   "execution_count": null,
   "id": "859e595b",
   "metadata": {},
   "outputs": [],
   "source": []
  }
 ],
 "metadata": {
  "kernelspec": {
   "display_name": "Python 3",
   "language": "python",
   "name": "python3"
  },
  "language_info": {
   "codemirror_mode": {
    "name": "ipython",
    "version": 3
   },
   "file_extension": ".py",
   "mimetype": "text/x-python",
   "name": "python",
   "nbconvert_exporter": "python",
   "pygments_lexer": "ipython3",
   "version": "3.6.13"
  }
 },
 "nbformat": 4,
 "nbformat_minor": 5
}
