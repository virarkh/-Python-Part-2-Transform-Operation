{
 "cells": [
  {
   "cell_type": "markdown",
   "id": "11673cbd",
   "metadata": {},
   "source": [
    "# Replace String Element\n",
    "## replace()\n",
    "\n",
    "The replace() method replaces each matching occurrence of the old character/text in the string with the new character/text.\n",
    "\n",
    "example:"
   ]
  },
  {
   "cell_type": "code",
   "execution_count": 2,
   "id": "883ddfd4",
   "metadata": {},
   "outputs": [],
   "source": [
    "a = 'I have a new car'"
   ]
  },
  {
   "cell_type": "code",
   "execution_count": 3,
   "id": "8b069f40",
   "metadata": {},
   "outputs": [
    {
     "name": "stdout",
     "output_type": "stream",
     "text": [
      "I have a new dog\n"
     ]
    }
   ],
   "source": [
    "print(a.replace('car','dog'))"
   ]
  },
  {
   "cell_type": "markdown",
   "id": "19381da9",
   "metadata": {},
   "source": [
    "### replace() Parameters\n",
    "The replace() method can take maximum of 3 parameters:\n",
    "\n",
    "* old - old substring you want to replace\n",
    "* new - new substring which will replace the old substring\n",
    "* count (optional) - the number of times you want to replace the old substring with the new substring"
   ]
  },
  {
   "cell_type": "code",
   "execution_count": 5,
   "id": "be7b68b5",
   "metadata": {},
   "outputs": [],
   "source": [
    "a = 'It is raining today and I bring my raincoat'"
   ]
  },
  {
   "cell_type": "code",
   "execution_count": 6,
   "id": "1f61d26d",
   "metadata": {},
   "outputs": [
    {
     "name": "stdout",
     "output_type": "stream",
     "text": [
      "It is colding today and I bring my raincoat\n"
     ]
    }
   ],
   "source": [
    "print(a.replace('rain','cold',1))"
   ]
  },
  {
   "cell_type": "code",
   "execution_count": null,
   "id": "9ba358a8",
   "metadata": {},
   "outputs": [],
   "source": []
  }
 ],
 "metadata": {
  "kernelspec": {
   "display_name": "Python 3",
   "language": "python",
   "name": "python3"
  },
  "language_info": {
   "codemirror_mode": {
    "name": "ipython",
    "version": 3
   },
   "file_extension": ".py",
   "mimetype": "text/x-python",
   "name": "python",
   "nbconvert_exporter": "python",
   "pygments_lexer": "ipython3",
   "version": "3.6.13"
  }
 },
 "nbformat": 4,
 "nbformat_minor": 5
}
