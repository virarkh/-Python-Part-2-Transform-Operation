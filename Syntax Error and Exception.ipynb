{
 "cells": [
  {
   "cell_type": "markdown",
   "id": "624e64ba",
   "metadata": {},
   "source": [
    "## Syntax Errors\n",
    "<hr>\n",
    "Syntax errors are mistakes in the use of python language and analogous to spelling or grammer mistakes. Usually, the errors are self-explanatory and docent needs any special attention to fix them.\n",
    "<br>\n",
    "Let's look at some most common causes of syntax errors.\n",
    "<li>Misspelled reserved keywords</li>\n",
    "<li>Missing required spaces</li>\n",
    "<li>Missing quotes</li>\n",
    "<li>Misuse of block statements (if-else, loops)</li>\n",
    "<li>Missing assignment operator (=)</li>\n",
    "<li>Invalid variables declaration</li>\n",
    "<li>Invalid function calling or defining </li>"
   ]
  },
  {
   "cell_type": "code",
   "execution_count": 15,
   "id": "8a14580a",
   "metadata": {},
   "outputs": [
    {
     "ename": "NameError",
     "evalue": "name 'prin' is not defined",
     "output_type": "error",
     "traceback": [
      "\u001b[1;31m---------------------------------------------------------------------------\u001b[0m",
      "\u001b[1;31mNameError\u001b[0m                                 Traceback (most recent call last)",
      "Input \u001b[1;32mIn [15]\u001b[0m, in \u001b[0;36m<cell line: 1>\u001b[1;34m()\u001b[0m\n\u001b[1;32m----> 1\u001b[0m \u001b[43mprin\u001b[49m(\u001b[38;5;124m\"\u001b[39m\u001b[38;5;124mHello World\u001b[39m\u001b[38;5;124m\"\u001b[39m)\n",
      "\u001b[1;31mNameError\u001b[0m: name 'prin' is not defined"
     ]
    }
   ],
   "source": [
    "prin(\"Hello World\")"
   ]
  },
  {
   "cell_type": "code",
   "execution_count": 2,
   "id": "34aacf8f",
   "metadata": {},
   "outputs": [
    {
     "name": "stdout",
     "output_type": "stream",
     "text": [
      "Hello World\n"
     ]
    }
   ],
   "source": [
    "print(\"Hello World\")"
   ]
  },
  {
   "cell_type": "code",
   "execution_count": 3,
   "id": "8cc63a4b",
   "metadata": {},
   "outputs": [
    {
     "ename": "SyntaxError",
     "evalue": "invalid syntax (3538807223.py, line 1)",
     "output_type": "error",
     "traceback": [
      "\u001b[1;36m  Input \u001b[1;32mIn [3]\u001b[1;36m\u001b[0m\n\u001b[1;33m    print(\"17Agustus\"isalnum())\u001b[0m\n\u001b[1;37m                     ^\u001b[0m\n\u001b[1;31mSyntaxError\u001b[0m\u001b[1;31m:\u001b[0m invalid syntax\n"
     ]
    }
   ],
   "source": [
    "print(\"17Agustus\"isalnum())"
   ]
  },
  {
   "cell_type": "code",
   "execution_count": 5,
   "id": "c3eed8a7",
   "metadata": {},
   "outputs": [
    {
     "name": "stdout",
     "output_type": "stream",
     "text": [
      "True\n"
     ]
    }
   ],
   "source": [
    "print(\"17Agustus\".isalnum())"
   ]
  },
  {
   "cell_type": "code",
   "execution_count": 7,
   "id": "4cebab7b",
   "metadata": {},
   "outputs": [
    {
     "ename": "SyntaxError",
     "evalue": "invalid syntax (3503881239.py, line 4)",
     "output_type": "error",
     "traceback": [
      "\u001b[1;36m  Input \u001b[1;32mIn [7]\u001b[1;36m\u001b[0m\n\u001b[1;33m    'michael': 43\u001b[0m\n\u001b[1;37m    ^\u001b[0m\n\u001b[1;31mSyntaxError\u001b[0m\u001b[1;31m:\u001b[0m invalid syntax\n"
     ]
    }
   ],
   "source": [
    "ages = {\n",
    "    'pam': 24,\n",
    "    'jim': 24\n",
    "    'michael': 43\n",
    "}"
   ]
  },
  {
   "cell_type": "code",
   "execution_count": 8,
   "id": "bbc4ef5d",
   "metadata": {},
   "outputs": [],
   "source": [
    "ages = {\n",
    "    'pam': 24,\n",
    "    'jim': 24,\n",
    "    'michael': 43\n",
    "}"
   ]
  },
  {
   "cell_type": "markdown",
   "id": "ad59d9fd",
   "metadata": {},
   "source": [
    "<br>"
   ]
  },
  {
   "cell_type": "markdown",
   "id": "3fb0f55d",
   "metadata": {},
   "source": [
    "## Exception\n",
    "<hr>\n",
    "Exception error is type of error occurs whenever syntactically correct Python code results in an error."
   ]
  },
  {
   "cell_type": "code",
   "execution_count": 9,
   "id": "e48355b9",
   "metadata": {},
   "outputs": [
    {
     "ename": "ZeroDivisionError",
     "evalue": "division by zero",
     "output_type": "error",
     "traceback": [
      "\u001b[1;31m---------------------------------------------------------------------------\u001b[0m",
      "\u001b[1;31mZeroDivisionError\u001b[0m                         Traceback (most recent call last)",
      "Input \u001b[1;32mIn [9]\u001b[0m, in \u001b[0;36m<cell line: 1>\u001b[1;34m()\u001b[0m\n\u001b[1;32m----> 1\u001b[0m \u001b[38;5;241m10\u001b[39m \u001b[38;5;241m*\u001b[39m (\u001b[38;5;241;43m1\u001b[39;49m\u001b[43m \u001b[49m\u001b[38;5;241;43m/\u001b[39;49m\u001b[43m \u001b[49m\u001b[38;5;241;43m0\u001b[39;49m)\n",
      "\u001b[1;31mZeroDivisionError\u001b[0m: division by zero"
     ]
    }
   ],
   "source": [
    "10 * (1 / 0)"
   ]
  },
  {
   "cell_type": "markdown",
   "id": "fc9c0732",
   "metadata": {},
   "source": [
    "<i>ZeroDivisionError is a built-in Python exception thrown when a number is divided by 0. Python interpreter throws \"ZeroDivisionError\" error if the result is infinite number.</i>"
   ]
  },
  {
   "cell_type": "code",
   "execution_count": 10,
   "id": "8d2b42e4",
   "metadata": {},
   "outputs": [
    {
     "ename": "TypeError",
     "evalue": "unsupported operand type(s) for +: 'int' and 'str'",
     "output_type": "error",
     "traceback": [
      "\u001b[1;31m---------------------------------------------------------------------------\u001b[0m",
      "\u001b[1;31mTypeError\u001b[0m                                 Traceback (most recent call last)",
      "Input \u001b[1;32mIn [10]\u001b[0m, in \u001b[0;36m<cell line: 1>\u001b[1;34m()\u001b[0m\n\u001b[1;32m----> 1\u001b[0m \u001b[38;5;241;43m2\u001b[39;49m\u001b[43m \u001b[49m\u001b[38;5;241;43m+\u001b[39;49m\u001b[43m \u001b[49m\u001b[38;5;124;43m'\u001b[39;49m\u001b[38;5;124;43m2\u001b[39;49m\u001b[38;5;124;43m'\u001b[39;49m\n",
      "\u001b[1;31mTypeError\u001b[0m: unsupported operand type(s) for +: 'int' and 'str'"
     ]
    }
   ],
   "source": [
    "2 + '2'"
   ]
  },
  {
   "cell_type": "markdown",
   "id": "56fea4cc",
   "metadata": {},
   "source": [
    "<i>Raised when an operation or function is applied to an object of inappropriate type</i>"
   ]
  }
 ],
 "metadata": {
  "kernelspec": {
   "display_name": "Python 3 (ipykernel)",
   "language": "python",
   "name": "python3"
  },
  "language_info": {
   "codemirror_mode": {
    "name": "ipython",
    "version": 3
   },
   "file_extension": ".py",
   "mimetype": "text/x-python",
   "name": "python",
   "nbconvert_exporter": "python",
   "pygments_lexer": "ipython3",
   "version": "3.9.12"
  }
 },
 "nbformat": 4,
 "nbformat_minor": 5
}
